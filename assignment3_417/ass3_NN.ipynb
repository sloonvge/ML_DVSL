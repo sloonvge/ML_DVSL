{
 "cells": [
  {
   "cell_type": "code",
   "execution_count": 1,
   "metadata": {
    "collapsed": false
   },
   "outputs": [],
   "source": [
    "from data_util_NN import load_CIFAR10, load_Mnist\n",
    "import numpy as np\n",
    "from NN_2Layers import NN   #模型\n",
    "import matplotlib.pyplot as plt\n",
    "import scipy.io as sio\n",
    "from sklearn.utils import shuffle\n",
    "from sklearn.model_selection import train_test_split"
   ]
  },
  {
   "cell_type": "code",
   "execution_count": 2,
   "metadata": {
    "collapsed": true
   },
   "outputs": [],
   "source": [
    "data_path = r\"E:\\Code\\jupyterpy\\DigitalVideo\\datasets\\mnist\""
   ]
  },
  {
   "cell_type": "code",
   "execution_count": 3,
   "metadata": {
    "collapsed": false
   },
   "outputs": [
    {
     "name": "stdout",
     "output_type": "stream",
     "text": [
      "X_train: (60000, 784) \t y_train: (60000,)\n",
      "X_test: (10000, 784) \t y_test: (10000,)\n"
     ]
    }
   ],
   "source": [
    "X_train, y_train, X_test, y_test = load_Mnist(data_path)\n",
    "print(\"X_train: {} \\t y_train: {}\".format(X_train.shape, y_train.shape))\n",
    "print(\"X_test: {} \\t y_test: {}\".format(X_test.shape, y_test.shape))"
   ]
  },
  {
   "cell_type": "markdown",
   "metadata": {},
   "source": [
    "* One hot"
   ]
  },
  {
   "cell_type": "code",
   "execution_count": 4,
   "metadata": {
    "collapsed": false
   },
   "outputs": [],
   "source": [
    "y_train = np.eye(10)[y_train.flatten()]\n",
    "y_test = np.eye(10)[y_test.flatten()]"
   ]
  },
  {
   "cell_type": "code",
   "execution_count": 5,
   "metadata": {
    "collapsed": false
   },
   "outputs": [
    {
     "name": "stdout",
     "output_type": "stream",
     "text": [
      "X_train:(60000, 784) \t y_train: (60000, 10)\n",
      "X_test: (10000, 784) \t y_test: (10000, 10)\n"
     ]
    }
   ],
   "source": [
    "mask = range(60000)\n",
    "X_tr = X_train[mask]\n",
    "y_tr = y_train[mask]\n",
    "mask = range(10000)\n",
    "X_te = X_test[mask]\n",
    "y_te = y_test[mask]\n",
    "print(\"X_train:{} \\t y_train: {}\".format(X_tr.shape, y_tr.shape))\n",
    "print(\"X_test: {} \\t y_test: {}\".format(X_te.shape, y_te.shape))"
   ]
  },
  {
   "cell_type": "code",
   "execution_count": 6,
   "metadata": {
    "collapsed": true
   },
   "outputs": [],
   "source": [
    "def normalize(X):\n",
    "    X = (X - np.mean(X, 1, keepdims=True)) / np.std(X, 1, keepdims=True)\n",
    "    return X"
   ]
  },
  {
   "cell_type": "code",
   "execution_count": 7,
   "metadata": {
    "collapsed": false
   },
   "outputs": [],
   "source": [
    "xs = normalize(X_tr)\n",
    "ys = y_tr\n",
    "X_te = normalize(X_te)"
   ]
  },
  {
   "cell_type": "code",
   "execution_count": 8,
   "metadata": {
    "collapsed": false
   },
   "outputs": [
    {
     "name": "stdout",
     "output_type": "stream",
     "text": [
      "Numbers of training batch size:  12\n",
      "Numbers of val batch size:  3\n"
     ]
    }
   ],
   "source": [
    "batch_size = 4000\n",
    "xs, X_val, ys, y_val = train_test_split(xs, ys, test_size=0.2, random_state=42)\n",
    "n_batch = xs.shape[0] // batch_size\n",
    "n_batch_val = X_val.shape[0] // batch_size\n",
    "print(\"Numbers of training batch size: \", n_batch)\n",
    "print(\"Numbers of val batch size: \", n_batch_val)"
   ]
  },
  {
   "cell_type": "markdown",
   "metadata": {},
   "source": [
    "* 权重初始化"
   ]
  },
  {
   "cell_type": "code",
   "execution_count": 9,
   "metadata": {
    "collapsed": true
   },
   "outputs": [],
   "source": [
    "def creat_weights(shape, check_loss=False):\n",
    "    if check_loss:\n",
    "        W = np.zeros(shape)\n",
    "    else:\n",
    "        epsilon_init = 0.12\n",
    "        W = np.random.rand(*(shape)) * 2 * epsilon_init - epsilon_init\n",
    "        #W =  0.01 * np.random.randn(*(shape))\n",
    "    return W\n",
    "def creat_bias(shape):\n",
    "    b = 0.1 * np.ones(shape).reshape(1, -1)\n",
    "    return b"
   ]
  },
  {
   "cell_type": "markdown",
   "metadata": {},
   "source": [
    "* Loss checking"
   ]
  },
  {
   "cell_type": "code",
   "execution_count": 10,
   "metadata": {
    "collapsed": true
   },
   "outputs": [],
   "source": [
    "input_dim = 784 #输入数据维度\n",
    "L1 = 25 #全连接层1\n",
    "L2 = 25 #全连接层2\n",
    "num_labels = 10 #10分类"
   ]
  },
  {
   "cell_type": "code",
   "execution_count": 11,
   "metadata": {
    "collapsed": false
   },
   "outputs": [],
   "source": [
    "model = NN(784, 25, 25, 10)"
   ]
  },
  {
   "cell_type": "code",
   "execution_count": 12,
   "metadata": {
    "collapsed": false
   },
   "outputs": [],
   "source": [
    "NN.W_fc1 = creat_weights([input_dim, L1], check_loss=True)\n",
    "NN.b_fc1 = creat_bias([L1])\n",
    "NN.W_fc2 = creat_weights([L1, L2], check_loss=True)\n",
    "NN.b_fc2 = creat_bias([L2])\n",
    "NN.W_ys = creat_weights([L2, num_labels], check_loss=True)\n",
    "NN.b_ys = creat_bias([num_labels])"
   ]
  },
  {
   "cell_type": "code",
   "execution_count": 13,
   "metadata": {
    "collapsed": false
   },
   "outputs": [
    {
     "name": "stdout",
     "output_type": "stream",
     "text": [
      "Loss of zero grad:  2.30258509299\n"
     ]
    }
   ],
   "source": [
    "loss = model.train(xs, ys, 1e-3)\n",
    "print(\"Loss of zero grad: \", loss[0])"
   ]
  },
  {
   "cell_type": "markdown",
   "metadata": {},
   "source": [
    "* Train"
   ]
  },
  {
   "cell_type": "code",
   "execution_count": 14,
   "metadata": {
    "collapsed": true
   },
   "outputs": [],
   "source": [
    "model = NN(784, 25, 25, 10)\n",
    "NN.W_fc1 = creat_weights([input_dim, L1], check_loss=False)\n",
    "NN.b_fc1 = creat_bias([L1])\n",
    "NN.W_fc2 = creat_weights([L1, L2], check_loss=False)\n",
    "NN.b_fc2 = creat_bias([L2])\n",
    "NN.W_ys = creat_weights([L2, num_labels], check_loss=False)\n",
    "NN.b_ys = creat_bias([num_labels])"
   ]
  },
  {
   "cell_type": "code",
   "execution_count": 15,
   "metadata": {
    "collapsed": false
   },
   "outputs": [
    {
     "name": "stdout",
     "output_type": "stream",
     "text": [
      "15:48:15\n",
      "Numbers of epoch size:  200\n",
      "Numbers of batch size:  12\n",
      "epoch 0 / 200\t:Train loss 2.36552\t Train acc 0.11010     \t:Val loss 2.30105\t Val acc 0.11583\n",
      "epoch 1 / 200\t:Train loss 2.31341\t Train acc 0.13546     \t:Val loss 2.30028\t Val acc 0.12542\n",
      "epoch 2 / 200\t:Train loss 2.31257\t Train acc 0.15288     \t:Val loss 2.29941\t Val acc 0.14283\n",
      "epoch 3 / 200\t:Train loss 2.31159\t Train acc 0.17900     \t:Val loss 2.29834\t Val acc 0.17158\n",
      "epoch 4 / 200\t:Train loss 2.31037\t Train acc 0.21204     \t:Val loss 2.29700\t Val acc 0.20583\n",
      "epoch 5 / 200\t:Train loss 2.30882\t Train acc 0.25017     \t:Val loss 2.29524\t Val acc 0.24758\n",
      "epoch 6 / 200\t:Train loss 2.30677\t Train acc 0.29110     \t:Val loss 2.29287\t Val acc 0.29283\n",
      "epoch 7 / 200\t:Train loss 2.30400\t Train acc 0.33267     \t:Val loss 2.28961\t Val acc 0.33900\n",
      "epoch 8 / 200\t:Train loss 2.30015\t Train acc 0.37327     \t:Val loss 2.28501\t Val acc 0.37858\n",
      "epoch 9 / 200\t:Train loss 2.29468\t Train acc 0.40719     \t:Val loss 2.27838\t Val acc 0.41733\n",
      "epoch 10 / 200\t:Train loss 2.28677\t Train acc 0.43638     \t:Val loss 2.26879\t Val acc 0.45217\n",
      "epoch 11 / 200\t:Train loss 2.27549\t Train acc 0.45725     \t:Val loss 2.25534\t Val acc 0.47167\n",
      "epoch 12 / 200\t:Train loss 2.26016\t Train acc 0.46919     \t:Val loss 2.23772\t Val acc 0.48125\n",
      "epoch 13 / 200\t:Train loss 2.24095\t Train acc 0.47487     \t:Val loss 2.21684\t Val acc 0.48592\n",
      "epoch 14 / 200\t:Train loss 2.21937\t Train acc 0.48094     \t:Val loss 2.19482\t Val acc 0.49250\n",
      "epoch 15 / 200\t:Train loss 2.19766\t Train acc 0.49217     \t:Val loss 2.17381\t Val acc 0.50517\n",
      "epoch 16 / 200\t:Train loss 2.17747\t Train acc 0.50815     \t:Val loss 2.15474\t Val acc 0.52383\n",
      "epoch 17 / 200\t:Train loss 2.15916\t Train acc 0.53160     \t:Val loss 2.13737\t Val acc 0.54667\n",
      "epoch 18 / 200\t:Train loss 2.14229\t Train acc 0.55279     \t:Val loss 2.12118\t Val acc 0.56358\n",
      "epoch 19 / 200\t:Train loss 2.12646\t Train acc 0.57192     \t:Val loss 2.10593\t Val acc 0.58108\n",
      "epoch 20 / 200\t:Train loss 2.11156\t Train acc 0.58837     \t:Val loss 2.09162\t Val acc 0.59733\n",
      "epoch 21 / 200\t:Train loss 2.09760\t Train acc 0.60254     \t:Val loss 2.07819\t Val acc 0.61092\n",
      "epoch 22 / 200\t:Train loss 2.08442\t Train acc 0.61504     \t:Val loss 2.06542\t Val acc 0.62200\n",
      "epoch 23 / 200\t:Train loss 2.07184\t Train acc 0.62556     \t:Val loss 2.05313\t Val acc 0.63092\n",
      "epoch 24 / 200\t:Train loss 2.05969\t Train acc 0.63406     \t:Val loss 2.04125\t Val acc 0.63875\n",
      "epoch 25 / 200\t:Train loss 2.04798\t Train acc 0.64000     \t:Val loss 2.02982\t Val acc 0.64300\n",
      "epoch 26 / 200\t:Train loss 2.03677\t Train acc 0.64579     \t:Val loss 2.01890\t Val acc 0.64858\n",
      "epoch 27 / 200\t:Train loss 2.02610\t Train acc 0.65098     \t:Val loss 2.00852\t Val acc 0.65342\n",
      "epoch 28 / 200\t:Train loss 2.01600\t Train acc 0.65677     \t:Val loss 1.99871\t Val acc 0.65708\n",
      "epoch 29 / 200\t:Train loss 2.00647\t Train acc 0.66310     \t:Val loss 1.98949\t Val acc 0.66042\n",
      "epoch 30 / 200\t:Train loss 1.99755\t Train acc 0.66765     \t:Val loss 1.98093\t Val acc 0.66567\n",
      "epoch 31 / 200\t:Train loss 1.98931\t Train acc 0.67227     \t:Val loss 1.97332\t Val acc 0.66775\n",
      "epoch 32 / 200\t:Train loss 1.98208\t Train acc 0.67112     \t:Val loss 1.96738\t Val acc 0.66575\n",
      "epoch 33 / 200\t:Train loss 1.97654\t Train acc 0.65904     \t:Val loss 1.96339\t Val acc 0.65633\n",
      "epoch 34 / 200\t:Train loss 1.97167\t Train acc 0.66085     \t:Val loss 1.95721\t Val acc 0.67275\n",
      "epoch 35 / 200\t:Train loss 1.96473\t Train acc 0.68923     \t:Val loss 1.94889\t Val acc 0.69567\n",
      "epoch 36 / 200\t:Train loss 1.95723\t Train acc 0.70756     \t:Val loss 1.94125\t Val acc 0.70900\n",
      "epoch 37 / 200\t:Train loss 1.95033\t Train acc 0.71729     \t:Val loss 1.93445\t Val acc 0.71558\n",
      "epoch 38 / 200\t:Train loss 1.94399\t Train acc 0.72510     \t:Val loss 1.92830\t Val acc 0.72100\n",
      "epoch 39 / 200\t:Train loss 1.93810\t Train acc 0.73231     \t:Val loss 1.92287\t Val acc 0.72017\n",
      "epoch 40 / 200\t:Train loss 1.93289\t Train acc 0.73544     \t:Val loss 1.91869\t Val acc 0.71158\n",
      "epoch 41 / 200\t:Train loss 1.92903\t Train acc 0.73223     \t:Val loss 1.91544\t Val acc 0.70200\n",
      "epoch 42 / 200\t:Train loss 1.92529\t Train acc 0.73244     \t:Val loss 1.90905\t Val acc 0.71367\n",
      "epoch 43 / 200\t:Train loss 1.91917\t Train acc 0.74290     \t:Val loss 1.90096\t Val acc 0.73058\n",
      "epoch 44 / 200\t:Train loss 1.91246\t Train acc 0.74915     \t:Val loss 1.89371\t Val acc 0.73742\n",
      "epoch 45 / 200\t:Train loss 1.90629\t Train acc 0.75190     \t:Val loss 1.88727\t Val acc 0.73975\n",
      "epoch 46 / 200\t:Train loss 1.90044\t Train acc 0.75315     \t:Val loss 1.88119\t Val acc 0.74433\n",
      "epoch 47 / 200\t:Train loss 1.89451\t Train acc 0.75633     \t:Val loss 1.87518\t Val acc 0.74900\n",
      "epoch 48 / 200\t:Train loss 1.88856\t Train acc 0.75869     \t:Val loss 1.86942\t Val acc 0.75167\n",
      "epoch 49 / 200\t:Train loss 1.88315\t Train acc 0.75844     \t:Val loss 1.86474\t Val acc 0.74983\n",
      "epoch 50 / 200\t:Train loss 1.87936\t Train acc 0.75448     \t:Val loss 1.86263\t Val acc 0.74708\n",
      "epoch 51 / 200\t:Train loss 1.87666\t Train acc 0.75315     \t:Val loss 1.85963\t Val acc 0.75675\n",
      "epoch 52 / 200\t:Train loss 1.87132\t Train acc 0.76308     \t:Val loss 1.85327\t Val acc 0.76425\n",
      "epoch 53 / 200\t:Train loss 1.86482\t Train acc 0.76946     \t:Val loss 1.84695\t Val acc 0.76692\n",
      "epoch 54 / 200\t:Train loss 1.85906\t Train acc 0.77123     \t:Val loss 1.84172\t Val acc 0.76975\n",
      "epoch 55 / 200\t:Train loss 1.85447\t Train acc 0.77079     \t:Val loss 1.83776\t Val acc 0.76883\n",
      "epoch 56 / 200\t:Train loss 1.85086\t Train acc 0.77077     \t:Val loss 1.83413\t Val acc 0.77100\n",
      "epoch 57 / 200\t:Train loss 1.84681\t Train acc 0.77408     \t:Val loss 1.82943\t Val acc 0.77542\n",
      "epoch 58 / 200\t:Train loss 1.84188\t Train acc 0.77883     \t:Val loss 1.82434\t Val acc 0.77758\n",
      "epoch 59 / 200\t:Train loss 1.83697\t Train acc 0.78225     \t:Val loss 1.81970\t Val acc 0.78058\n",
      "epoch 60 / 200\t:Train loss 1.83263\t Train acc 0.78435     \t:Val loss 1.81580\t Val acc 0.78167\n",
      "epoch 61 / 200\t:Train loss 1.82894\t Train acc 0.78608     \t:Val loss 1.81251\t Val acc 0.78367\n",
      "epoch 62 / 200\t:Train loss 1.82559\t Train acc 0.78888     \t:Val loss 1.80935\t Val acc 0.78617\n",
      "epoch 63 / 200\t:Train loss 1.82216\t Train acc 0.79269     \t:Val loss 1.80598\t Val acc 0.79100\n",
      "epoch 64 / 200\t:Train loss 1.81859\t Train acc 0.79604     \t:Val loss 1.80267\t Val acc 0.79392\n",
      "epoch 65 / 200\t:Train loss 1.81518\t Train acc 0.80010     \t:Val loss 1.79984\t Val acc 0.79633\n",
      "epoch 66 / 200\t:Train loss 1.81221\t Train acc 0.80258     \t:Val loss 1.79773\t Val acc 0.79583\n",
      "epoch 67 / 200\t:Train loss 1.80977\t Train acc 0.80417     \t:Val loss 1.79599\t Val acc 0.79592\n",
      "epoch 68 / 200\t:Train loss 1.80745\t Train acc 0.80771     \t:Val loss 1.79355\t Val acc 0.80000\n",
      "epoch 69 / 200\t:Train loss 1.80464\t Train acc 0.81350     \t:Val loss 1.79016\t Val acc 0.80708\n",
      "epoch 70 / 200\t:Train loss 1.80142\t Train acc 0.82058     \t:Val loss 1.78669\t Val acc 0.81400\n",
      "epoch 71 / 200\t:Train loss 1.79828\t Train acc 0.82558     \t:Val loss 1.78375\t Val acc 0.81850\n",
      "epoch 72 / 200\t:Train loss 1.79554\t Train acc 0.83000     \t:Val loss 1.78148\t Val acc 0.82050\n",
      "epoch 73 / 200\t:Train loss 1.79324\t Train acc 0.83260     \t:Val loss 1.77952\t Val acc 0.82358\n",
      "epoch 74 / 200\t:Train loss 1.79102\t Train acc 0.83685     \t:Val loss 1.77705\t Val acc 0.82917\n",
      "epoch 75 / 200\t:Train loss 1.78840\t Train acc 0.84225     \t:Val loss 1.77391\t Val acc 0.83567\n",
      "epoch 76 / 200\t:Train loss 1.78541\t Train acc 0.84794     \t:Val loss 1.77067\t Val acc 0.84233\n",
      "epoch 77 / 200\t:Train loss 1.78242\t Train acc 0.85273     \t:Val loss 1.76784\t Val acc 0.84600\n",
      "epoch 78 / 200\t:Train loss 1.77972\t Train acc 0.85681     \t:Val loss 1.76552\t Val acc 0.84925\n",
      "epoch 79 / 200\t:Train loss 1.77733\t Train acc 0.85938     \t:Val loss 1.76339\t Val acc 0.85125\n",
      "epoch 80 / 200\t:Train loss 1.77495\t Train acc 0.86254     \t:Val loss 1.76074\t Val acc 0.85542\n",
      "epoch 81 / 200\t:Train loss 1.77215\t Train acc 0.86690     \t:Val loss 1.75743\t Val acc 0.86158\n",
      "epoch 82 / 200\t:Train loss 1.76898\t Train acc 0.87154     \t:Val loss 1.75401\t Val acc 0.86583\n",
      "epoch 83 / 200\t:Train loss 1.76579\t Train acc 0.87490     \t:Val loss 1.75094\t Val acc 0.86925\n",
      "epoch 84 / 200\t:Train loss 1.76286\t Train acc 0.87667     \t:Val loss 1.74835\t Val acc 0.87083\n",
      "epoch 85 / 200\t:Train loss 1.76025\t Train acc 0.87819     \t:Val loss 1.74593\t Val acc 0.87225\n",
      "epoch 86 / 200\t:Train loss 1.75763\t Train acc 0.88065     \t:Val loss 1.74302\t Val acc 0.87508\n",
      "epoch 87 / 200\t:Train loss 1.75462\t Train acc 0.88396     \t:Val loss 1.73948\t Val acc 0.87908\n",
      "epoch 88 / 200\t:Train loss 1.75127\t Train acc 0.88644     \t:Val loss 1.73586\t Val acc 0.88200\n",
      "epoch 89 / 200\t:Train loss 1.74794\t Train acc 0.88860     \t:Val loss 1.73261\t Val acc 0.88283\n",
      "epoch 90 / 200\t:Train loss 1.74492\t Train acc 0.88973     \t:Val loss 1.72988\t Val acc 0.88275\n",
      "epoch 91 / 200\t:Train loss 1.74225\t Train acc 0.89033     \t:Val loss 1.72736\t Val acc 0.88250\n",
      "epoch 92 / 200\t:Train loss 1.73963\t Train acc 0.89131     \t:Val loss 1.72439\t Val acc 0.88400\n",
      "epoch 93 / 200\t:Train loss 1.73666\t Train acc 0.89260     \t:Val loss 1.72087\t Val acc 0.88608\n",
      "epoch 94 / 200\t:Train loss 1.73341\t Train acc 0.89435     \t:Val loss 1.71727\t Val acc 0.88775\n",
      "epoch 95 / 200\t:Train loss 1.73024\t Train acc 0.89542     \t:Val loss 1.71404\t Val acc 0.88808\n",
      "epoch 96 / 200\t:Train loss 1.72743\t Train acc 0.89577     \t:Val loss 1.71130\t Val acc 0.88733\n",
      "epoch 97 / 200\t:Train loss 1.72504\t Train acc 0.89535     \t:Val loss 1.70870\t Val acc 0.88733\n",
      "epoch 98 / 200\t:Train loss 1.72270\t Train acc 0.89563     \t:Val loss 1.70564\t Val acc 0.88842\n",
      "epoch 99 / 200\t:Train loss 1.72006\t Train acc 0.89700     \t:Val loss 1.70211\t Val acc 0.89117\n",
      "epoch 100 / 200\t:Train loss 1.71728\t Train acc 0.89798     \t:Val loss 1.69861\t Val acc 0.89175\n",
      "epoch 101 / 200\t:Train loss 1.71478\t Train acc 0.89869     \t:Val loss 1.69551\t Val acc 0.89258\n",
      "epoch 102 / 200\t:Train loss 1.71264\t Train acc 0.89933     \t:Val loss 1.69279\t Val acc 0.89392\n",
      "epoch 103 / 200\t:Train loss 1.71044\t Train acc 0.90023     \t:Val loss 1.69011\t Val acc 0.89725\n",
      "epoch 104 / 200\t:Train loss 1.70791\t Train acc 0.90183     \t:Val loss 1.68735\t Val acc 0.89967\n",
      "epoch 105 / 200\t:Train loss 1.70527\t Train acc 0.90219     \t:Val loss 1.68467\t Val acc 0.90125\n",
      "epoch 106 / 200\t:Train loss 1.70287\t Train acc 0.90275     \t:Val loss 1.68231\t Val acc 0.90233\n",
      "epoch 107 / 200\t:Train loss 1.70086\t Train acc 0.90277     \t:Val loss 1.68046\t Val acc 0.90333\n",
      "epoch 108 / 200\t:Train loss 1.69928\t Train acc 0.90242     \t:Val loss 1.67932\t Val acc 0.90517\n",
      "epoch 109 / 200\t:Train loss 1.69806\t Train acc 0.90235     \t:Val loss 1.67887\t Val acc 0.90583\n",
      "epoch 110 / 200\t:Train loss 1.69691\t Train acc 0.90244     \t:Val loss 1.67834\t Val acc 0.90625\n",
      "epoch 111 / 200\t:Train loss 1.69514\t Train acc 0.90350     \t:Val loss 1.67665\t Val acc 0.90642\n",
      "epoch 112 / 200\t:Train loss 1.69263\t Train acc 0.90506     \t:Val loss 1.67411\t Val acc 0.90683\n",
      "epoch 113 / 200\t:Train loss 1.68998\t Train acc 0.90619     \t:Val loss 1.67158\t Val acc 0.90658\n",
      "epoch 114 / 200\t:Train loss 1.68780\t Train acc 0.90644     \t:Val loss 1.66973\t Val acc 0.90708\n",
      "epoch 115 / 200\t:Train loss 1.68673\t Train acc 0.90488     \t:Val loss 1.66918\t Val acc 0.90450\n",
      "epoch 116 / 200\t:Train loss 1.68693\t Train acc 0.90379     \t:Val loss 1.66894\t Val acc 0.90450\n",
      "epoch 117 / 200\t:Train loss 1.68633\t Train acc 0.90502     \t:Val loss 1.66696\t Val acc 0.90467\n",
      "epoch 118 / 200\t:Train loss 1.68423\t Train acc 0.90687     \t:Val loss 1.66435\t Val acc 0.90483\n",
      "epoch 119 / 200\t:Train loss 1.68201\t Train acc 0.90725     \t:Val loss 1.66211\t Val acc 0.90483\n",
      "epoch 120 / 200\t:Train loss 1.68027\t Train acc 0.90758     \t:Val loss 1.66041\t Val acc 0.90375\n",
      "epoch 121 / 200\t:Train loss 1.67885\t Train acc 0.90798     \t:Val loss 1.65897\t Val acc 0.90342\n",
      "epoch 122 / 200\t:Train loss 1.67738\t Train acc 0.90844     \t:Val loss 1.65745\t Val acc 0.90433\n",
      "epoch 123 / 200\t:Train loss 1.67573\t Train acc 0.90933     \t:Val loss 1.65587\t Val acc 0.90483\n",
      "epoch 124 / 200\t:Train loss 1.67414\t Train acc 0.90946     \t:Val loss 1.65446\t Val acc 0.90400\n",
      "epoch 125 / 200\t:Train loss 1.67288\t Train acc 0.90915     \t:Val loss 1.65352\t Val acc 0.90508\n",
      "epoch 126 / 200\t:Train loss 1.67213\t Train acc 0.90869     \t:Val loss 1.65321\t Val acc 0.90583\n",
      "epoch 127 / 200\t:Train loss 1.67175\t Train acc 0.90829     \t:Val loss 1.65318\t Val acc 0.90642\n",
      "epoch 128 / 200\t:Train loss 1.67116\t Train acc 0.90867     \t:Val loss 1.65263\t Val acc 0.90825\n",
      "epoch 129 / 200\t:Train loss 1.67000\t Train acc 0.90987     \t:Val loss 1.65143\t Val acc 0.90983\n",
      "epoch 130 / 200\t:Train loss 1.66849\t Train acc 0.91052     \t:Val loss 1.64998\t Val acc 0.91108\n",
      "epoch 131 / 200\t:Train loss 1.66697\t Train acc 0.91100     \t:Val loss 1.64858\t Val acc 0.91225\n",
      "epoch 132 / 200\t:Train loss 1.66562\t Train acc 0.91138     \t:Val loss 1.64737\t Val acc 0.91217\n",
      "epoch 133 / 200\t:Train loss 1.66447\t Train acc 0.91160     \t:Val loss 1.64635\t Val acc 0.91242\n",
      "epoch 134 / 200\t:Train loss 1.66346\t Train acc 0.91175     \t:Val loss 1.64542\t Val acc 0.91283\n",
      "epoch 135 / 200\t:Train loss 1.66251\t Train acc 0.91217     \t:Val loss 1.64447\t Val acc 0.91283\n",
      "epoch 136 / 200\t:Train loss 1.66153\t Train acc 0.91223     \t:Val loss 1.64346\t Val acc 0.91325\n",
      "epoch 137 / 200\t:Train loss 1.66051\t Train acc 0.91258     \t:Val loss 1.64241\t Val acc 0.91350\n",
      "epoch 138 / 200\t:Train loss 1.65950\t Train acc 0.91302     \t:Val loss 1.64140\t Val acc 0.91408\n",
      "epoch 139 / 200\t:Train loss 1.65855\t Train acc 0.91335     \t:Val loss 1.64050\t Val acc 0.91433\n",
      "epoch 140 / 200\t:Train loss 1.65771\t Train acc 0.91354     \t:Val loss 1.63972\t Val acc 0.91442\n",
      "epoch 141 / 200\t:Train loss 1.65698\t Train acc 0.91373     \t:Val loss 1.63906\t Val acc 0.91458\n",
      "epoch 142 / 200\t:Train loss 1.65633\t Train acc 0.91417     \t:Val loss 1.63845\t Val acc 0.91450\n",
      "epoch 143 / 200\t:Train loss 1.65572\t Train acc 0.91427     \t:Val loss 1.63781\t Val acc 0.91425\n",
      "epoch 144 / 200\t:Train loss 1.65511\t Train acc 0.91435     \t:Val loss 1.63710\t Val acc 0.91375\n",
      "epoch 145 / 200\t:Train loss 1.65455\t Train acc 0.91521     \t:Val loss 1.63643\t Val acc 0.91258\n",
      "epoch 146 / 200\t:Train loss 1.65437\t Train acc 0.91465     \t:Val loss 1.63623\t Val acc 0.91083\n",
      "epoch 147 / 200\t:Train loss 1.65528\t Train acc 0.91337     \t:Val loss 1.63713\t Val acc 0.90775\n",
      "epoch 148 / 200\t:Train loss 1.65682\t Train acc 0.91133     \t:Val loss 1.63758\t Val acc 0.90808\n",
      "epoch 149 / 200\t:Train loss 1.65641\t Train acc 0.91308     \t:Val loss 1.63617\t Val acc 0.91058\n",
      "epoch 150 / 200\t:Train loss 1.65453\t Train acc 0.91500     \t:Val loss 1.63431\t Val acc 0.91258\n",
      "epoch 151 / 200\t:Train loss 1.65267\t Train acc 0.91585     \t:Val loss 1.63270\t Val acc 0.91358\n",
      "epoch 152 / 200\t:Train loss 1.65125\t Train acc 0.91598     \t:Val loss 1.63149\t Val acc 0.91375\n",
      "epoch 153 / 200\t:Train loss 1.65028\t Train acc 0.91621     \t:Val loss 1.63066\t Val acc 0.91383\n",
      "epoch 154 / 200\t:Train loss 1.64968\t Train acc 0.91600     \t:Val loss 1.63017\t Val acc 0.91408\n",
      "epoch 155 / 200\t:Train loss 1.64932\t Train acc 0.91598     \t:Val loss 1.62989\t Val acc 0.91392\n",
      "epoch 156 / 200\t:Train loss 1.64898\t Train acc 0.91621     \t:Val loss 1.62958\t Val acc 0.91408\n",
      "epoch 157 / 200\t:Train loss 1.64850\t Train acc 0.91646     \t:Val loss 1.62911\t Val acc 0.91408\n",
      "epoch 158 / 200\t:Train loss 1.64786\t Train acc 0.91690     \t:Val loss 1.62851\t Val acc 0.91417\n",
      "epoch 159 / 200\t:Train loss 1.64716\t Train acc 0.91723     \t:Val loss 1.62786\t Val acc 0.91458\n",
      "epoch 160 / 200\t:Train loss 1.64650\t Train acc 0.91742     \t:Val loss 1.62726\t Val acc 0.91467\n",
      "epoch 161 / 200\t:Train loss 1.64594\t Train acc 0.91758     \t:Val loss 1.62675\t Val acc 0.91492\n",
      "epoch 162 / 200\t:Train loss 1.64549\t Train acc 0.91765     \t:Val loss 1.62634\t Val acc 0.91458\n",
      "epoch 163 / 200\t:Train loss 1.64512\t Train acc 0.91779     \t:Val loss 1.62600\t Val acc 0.91458\n",
      "epoch 164 / 200\t:Train loss 1.64479\t Train acc 0.91800     \t:Val loss 1.62568\t Val acc 0.91458\n",
      "epoch 165 / 200\t:Train loss 1.64444\t Train acc 0.91815     \t:Val loss 1.62531\t Val acc 0.91475\n",
      "epoch 166 / 200\t:Train loss 1.64402\t Train acc 0.91833     \t:Val loss 1.62488\t Val acc 0.91508\n",
      "epoch 167 / 200\t:Train loss 1.64356\t Train acc 0.91846     \t:Val loss 1.62442\t Val acc 0.91500\n",
      "epoch 168 / 200\t:Train loss 1.64308\t Train acc 0.91873     \t:Val loss 1.62394\t Val acc 0.91517\n",
      "epoch 169 / 200\t:Train loss 1.64262\t Train acc 0.91871     \t:Val loss 1.62348\t Val acc 0.91500\n",
      "epoch 170 / 200\t:Train loss 1.64220\t Train acc 0.91877     \t:Val loss 1.62306\t Val acc 0.91517\n",
      "epoch 171 / 200\t:Train loss 1.64183\t Train acc 0.91877     \t:Val loss 1.62271\t Val acc 0.91525\n",
      "epoch 172 / 200\t:Train loss 1.64152\t Train acc 0.91910     \t:Val loss 1.62242\t Val acc 0.91575\n",
      "epoch 173 / 200\t:Train loss 1.64126\t Train acc 0.91923     \t:Val loss 1.62224\t Val acc 0.91625\n",
      "epoch 174 / 200\t:Train loss 1.64112\t Train acc 0.91981     \t:Val loss 1.62227\t Val acc 0.91775\n",
      "epoch 175 / 200\t:Train loss 1.64117\t Train acc 0.91983     \t:Val loss 1.62264\t Val acc 0.91725\n",
      "epoch 176 / 200\t:Train loss 1.64149\t Train acc 0.91969     \t:Val loss 1.62331\t Val acc 0.91708\n",
      "epoch 177 / 200\t:Train loss 1.64182\t Train acc 0.91985     \t:Val loss 1.62370\t Val acc 0.91825\n",
      "epoch 178 / 200\t:Train loss 1.64168\t Train acc 0.92023     \t:Val loss 1.62330\t Val acc 0.91892\n",
      "epoch 179 / 200\t:Train loss 1.64093\t Train acc 0.92083     \t:Val loss 1.62234\t Val acc 0.91958\n",
      "epoch 180 / 200\t:Train loss 1.63992\t Train acc 0.92094     \t:Val loss 1.62128\t Val acc 0.91983\n",
      "epoch 181 / 200\t:Train loss 1.63894\t Train acc 0.92090     \t:Val loss 1.62033\t Val acc 0.91975\n",
      "epoch 182 / 200\t:Train loss 1.63813\t Train acc 0.92112     \t:Val loss 1.61956\t Val acc 0.92008\n",
      "epoch 183 / 200\t:Train loss 1.63749\t Train acc 0.92106     \t:Val loss 1.61899\t Val acc 0.92033\n",
      "epoch 184 / 200\t:Train loss 1.63703\t Train acc 0.92133     \t:Val loss 1.61865\t Val acc 0.92017\n",
      "epoch 185 / 200\t:Train loss 1.63677\t Train acc 0.92117     \t:Val loss 1.61855\t Val acc 0.91958\n",
      "epoch 186 / 200\t:Train loss 1.63670\t Train acc 0.92100     \t:Val loss 1.61868\t Val acc 0.92000\n",
      "epoch 187 / 200\t:Train loss 1.63676\t Train acc 0.92096     \t:Val loss 1.61892\t Val acc 0.92025\n",
      "epoch 188 / 200\t:Train loss 1.63681\t Train acc 0.92104     \t:Val loss 1.61902\t Val acc 0.92033\n",
      "epoch 189 / 200\t:Train loss 1.63666\t Train acc 0.92110     \t:Val loss 1.61882\t Val acc 0.92050\n",
      "epoch 190 / 200\t:Train loss 1.63627\t Train acc 0.92169     \t:Val loss 1.61833\t Val acc 0.92100\n",
      "epoch 191 / 200\t:Train loss 1.63572\t Train acc 0.92198     \t:Val loss 1.61770\t Val acc 0.92092\n",
      "epoch 192 / 200\t:Train loss 1.63513\t Train acc 0.92233     \t:Val loss 1.61706\t Val acc 0.92108\n",
      "epoch 193 / 200\t:Train loss 1.63458\t Train acc 0.92267     \t:Val loss 1.61648\t Val acc 0.92117\n",
      "epoch 194 / 200\t:Train loss 1.63413\t Train acc 0.92267     \t:Val loss 1.61601\t Val acc 0.92142\n",
      "epoch 195 / 200\t:Train loss 1.63382\t Train acc 0.92296     \t:Val loss 1.61568\t Val acc 0.92133\n",
      "epoch 196 / 200\t:Train loss 1.63367\t Train acc 0.92329     \t:Val loss 1.61551\t Val acc 0.92117\n",
      "epoch 197 / 200\t:Train loss 1.63371\t Train acc 0.92342     \t:Val loss 1.61549\t Val acc 0.92125\n",
      "epoch 198 / 200\t:Train loss 1.63391\t Train acc 0.92333     \t:Val loss 1.61551\t Val acc 0.92058\n",
      "epoch 199 / 200\t:Train loss 1.63419\t Train acc 0.92285     \t:Val loss 1.61550\t Val acc 0.91933\n",
      "15:48:55\n"
     ]
    }
   ],
   "source": [
    "epoch_loss_list = []\n",
    "epoch_acc_list = []\n",
    "epoch_loss_val_list = []\n",
    "epoch_acc_val_list = []\n",
    "n_epoch = 200\n",
    "import time\n",
    "print(time.strftime('%H:%M:%S', time.localtime(time.time())))\n",
    "print(\"Numbers of epoch size: \", n_epoch)\n",
    "print(\"Numbers of batch size: \", n_batch)\n",
    "for epoch in range(n_epoch):\n",
    "    epoch_loss = 0.0\n",
    "    epoch_acc = 0.0\n",
    "    epoch_loss_val = 0.0\n",
    "    epoch_acc_val = 0.0\n",
    "    \n",
    "    for i in range(n_batch):\n",
    "        loss = model.train(xs[i * batch_size:(i+1) * batch_size], ys[i * batch_size:(i+1) * batch_size], learning_rate=0.42, reg=1)\n",
    "        epoch_loss += model.loss\n",
    "        epoch_acc += model.acc\n",
    "\n",
    "    for i in range(n_batch_val):\n",
    "        acc_val, loss_val = model.test(X_val[i * batch_size:(i+1) * batch_size], y_val[i * batch_size:(i+1) * batch_size])\n",
    "        epoch_loss_val += loss_val\n",
    "        epoch_acc_val += acc_val\n",
    "    epoch_loss /= n_batch\n",
    "    epoch_acc /= n_batch\n",
    "    epoch_loss_val /= n_batch_val\n",
    "    epoch_acc_val /= n_batch_val\n",
    "    epoch_loss_list.append(epoch_loss)\n",
    "    epoch_acc_list.append(epoch_acc)\n",
    "    epoch_loss_val_list.append(epoch_loss_val)\n",
    "    epoch_acc_val_list.append(epoch_acc_val)\n",
    "    print(\"epoch {0} / {1:}\\t:Train loss {2:.5f}\\t Train acc {3:.5f} \\\n",
    "    \\t:Val loss {4:.5f}\\t Val acc {5:.5f}\".format(epoch, n_epoch, epoch_loss, epoch_acc, epoch_loss_val, epoch_acc_val))\n",
    "print(time.strftime('%H:%M:%S', time.localtime(time.time())))"
   ]
  },
  {
   "cell_type": "markdown",
   "metadata": {},
   "source": [
    "* Test"
   ]
  },
  {
   "cell_type": "code",
   "execution_count": 16,
   "metadata": {
    "collapsed": false
   },
   "outputs": [
    {
     "name": "stdout",
     "output_type": "stream",
     "text": [
      "Test acc:  0.9212\n"
     ]
    }
   ],
   "source": [
    "test_acc, test_loss = model.test(X_te, y_te)\n",
    "print(\"Test acc: \", test_acc)"
   ]
  },
  {
   "cell_type": "markdown",
   "metadata": {},
   "source": [
    "* 训练过程"
   ]
  },
  {
   "cell_type": "code",
   "execution_count": 17,
   "metadata": {
    "collapsed": false
   },
   "outputs": [
    {
     "data": {
      "image/png": "[encoded data removed]",
      "text/plain": [
       "<matplotlib.figure.Figure at 0x20c51470710>"
      ]
     },
     "metadata": {},
     "output_type": "display_data"
    }
   ],
   "source": [
    "plt.figure(figsize=(14, 5))\n",
    "plt.subplot(121)\n",
    "plt.plot(epoch_loss_list, label='Train loss')\n",
    "plt.plot(epoch_loss_val_list, label='Val loss')\n",
    "plt.xlabel('Epoch')\n",
    "plt.ylabel('Loss')\n",
    "plt.legend(loc=0)\n",
    "\n",
    "plt.subplot(122)\n",
    "plt.plot(epoch_acc_list, label='Train acc')\n",
    "plt.plot(epoch_acc_val_list, label='Val acc')\n",
    "plt.xlabel('Epoch')\n",
    "plt.ylabel('Acc')\n",
    "plt.legend(loc=0)\n",
    "plt.show()"
   ]
  },
  {
   "cell_type": "code",
   "execution_count": null,
   "metadata": {
    "collapsed": true
   },
   "outputs": [],
   "source": []
  }
 ],
 "metadata": {
  "anaconda-cloud": {},
  "kernelspec": {
   "display_name": "Python [conda root]",
   "language": "python",
   "name": "conda-root-py"
  },
  "language_info": {
   "codemirror_mode": {
    "name": "ipython",
    "version": 3
   },
   "file_extension": ".py",
   "mimetype": "text/x-python",
   "name": "python",
   "nbconvert_exporter": "python",
   "pygments_lexer": "ipython3",
   "version": "3.5.2"
  }
 },
 "nbformat": 4,
 "nbformat_minor": 1
}
