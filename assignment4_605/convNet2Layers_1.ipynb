{
 "cells": [
  {
   "cell_type": "code",
   "execution_count": 1,
   "metadata": {
    "collapsed": false
   },
   "outputs": [],
   "source": [
    "import os\n",
    "import time\n",
    "import numpy as np\n",
    "import tensorflow as tf\n",
    "import matplotlib.pyplot as plt\n",
    "from cifar10 import load_cifar10 # 输入数据，主要用了tf.data.FixedLengthRecordDataset"
   ]
  },
  {
   "cell_type": "code",
   "execution_count": 2,
   "metadata": {
    "collapsed": false
   },
   "outputs": [
    {
     "name": "stdout",
     "output_type": "stream",
     "text": [
      "Help on function load_cifar10 in module cifar10:\n",
      "\n",
      "load_cifar10(data_dir, batch_size, test=False, shuffle=True, seed=None)\n",
      "\n",
      "1.7.0\n"
     ]
    }
   ],
   "source": [
    "help(load_cifar10)\n",
    "print(tf.__version__)"
   ]
  },
  {
   "cell_type": "code",
   "execution_count": 3,
   "metadata": {
    "collapsed": true
   },
   "outputs": [],
   "source": [
    "data_path = r\"E:\\Code\\jupyterpy\\DigitalVideo\\datasets\\cifar-10-batches-bin\"\n",
    "BATCH_SIZE_TRAIN = 100\n",
    "TRAIN_SIZE = 50000\n",
    "TEST_SIZE = 10000"
   ]
  },
  {
   "cell_type": "markdown",
   "metadata": {},
   "source": [
    "##### 数据：Cifar10 二进制版本\n",
    "<img src=\"data.jpg\" width=\"300\" height=\"100\">"
   ]
  },
  {
   "cell_type": "markdown",
   "metadata": {},
   "source": [
    "# Model"
   ]
  },
  {
   "cell_type": "code",
   "execution_count": 4,
   "metadata": {
    "collapsed": false
   },
   "outputs": [],
   "source": [
    "def model_(xs):\n",
    "    # (n, 32, 32, 3)\n",
    "    conv1 = tf.layers.conv2d(xs, filters=32, kernel_size=5, strides=1, padding='SAME', activation=tf.nn.relu, \n",
    "                             kernel_initializer=tf.truncated_normal_initializer(stddev=0.01), name=\"conv1\", reuse=tf.AUTO_REUSE)\n",
    "    tf.summary.histogram('conv1', conv1)\n",
    "    pool1 = tf.layers.max_pooling2d(conv1, pool_size=2, strides=2, name='max_pool1')\n",
    "    # (n, 16, 16, 32)\n",
    "    conv2 = tf.layers.conv2d(pool1, filters=32, kernel_size=5, strides=1, padding='SAME', activation=tf.nn.relu, \n",
    "                             kernel_initializer=tf.truncated_normal_initializer(stddev=0.01), name=\"conv2\", reuse=tf.AUTO_REUSE)\n",
    "    tf.summary.histogram('conv2', conv1)\n",
    "    pool2 = tf.layers.max_pooling2d(conv2, pool_size=2, strides=2, name='max_pool2')\n",
    "    # (n, 8, 8, 32)\n",
    "    fc1 = tf.reshape(pool2, [-1, 8 * 8 * 32])\n",
    "    output = tf.layers.dense(fc1, 10, name=\"fc1\", reuse=tf.AUTO_REUSE)\n",
    "    return output"
   ]
  },
  {
   "cell_type": "code",
   "execution_count": 5,
   "metadata": {
    "collapsed": false
   },
   "outputs": [],
   "source": [
    "def loss_acc(ys, output, train=True):\n",
    "    with tf.name_scope('loss'):\n",
    "        loss = tf.losses.softmax_cross_entropy(onehot_labels=ys, logits=output)\n",
    "        tf.summary.scalar('loss', loss)\n",
    "    with tf.name_scope('accuracy'):\n",
    "        accuracy = tf.reduce_mean(tf.cast(tf.equal(tf.argmax(output, 1), tf.argmax(ys, 1)), tf.float32))\n",
    "        tf.summary.scalar('accuracy', accuracy)\n",
    "    return loss, accuracy"
   ]
  },
  {
   "cell_type": "markdown",
   "metadata": {},
   "source": [
    "# Train"
   ]
  },
  {
   "cell_type": "code",
   "execution_count": 6,
   "metadata": {
    "collapsed": false
   },
   "outputs": [],
   "source": [
    "def plt_loss_acc(epoch_loss_list, epoch_acc_list, epoch_loss_val_list, epoch_acc_val_list):\n",
    "    plt.figure(figsize=(14, 5))\n",
    "    plt.subplot(121)\n",
    "    plt.plot(epoch_loss_list, label='Train loss')\n",
    "    plt.plot(epoch_loss_val_list, label='Val loss')\n",
    "    plt.xlabel('Epoch')\n",
    "    plt.ylabel('Loss')\n",
    "    plt.legend(loc=0)\n",
    "\n",
    "    plt.subplot(122)\n",
    "    plt.plot(epoch_acc_list, label='Train acc')\n",
    "    plt.plot(epoch_acc_val_list, label='Val acc')\n",
    "    plt.xlabel('Epoch')\n",
    "    plt.ylabel('Acc')\n",
    "    plt.legend(loc=0)\n",
    "    plt.show()"
   ]
  },
  {
   "cell_type": "code",
   "execution_count": 7,
   "metadata": {
    "collapsed": false
   },
   "outputs": [],
   "source": [
    "def train(dataset, dataset_val, TRAIN_SIZE, VAL_SIZE, BATCH_SIZE_TRAIN):\n",
    "    '''\n",
    "    data\n",
    "    '''\n",
    "    with tf.name_scope('data'):\n",
    "        iter = tf.data.Iterator.from_structure(dataset.output_types, \n",
    "                                               dataset.output_shapes)\n",
    "        train_init_op = iter.make_initializer(dataset)\n",
    "        val_init_op = iter.make_initializer(dataset_val)\n",
    "\n",
    "        xs, ys = iter.get_next()\n",
    "        ys = tf.reshape(ys, (-1, 10))\n",
    "    '''\n",
    "    model\n",
    "    '''\n",
    "    output = model_(xs)\n",
    "    loss, accuracy = loss_acc(ys, output)\n",
    "    train_op = tf.train.AdamOptimizer(1e-5, name='Adam').minimize(loss)\n",
    "    #accuracy = tf.metrics.accuracy(labels=tf.argmax(ys, axis=1), predictions=tf.argmax(output, axis=1))\n",
    "    '''\n",
    "    train process\n",
    "    '''\n",
    "    \n",
    "    N_EPOCH = 200\n",
    "    epoch_loss_list = []\n",
    "    epoch_acc_list = []\n",
    "    epoch_loss_val_list = []\n",
    "    epoch_acc_val_list = []\n",
    "    N_BATCH, N_BATCH_VAL = TRAIN_SIZE // BATCH_SIZE_TRAIN, VAL_SIZE // BATCH_SIZE_TRAIN\n",
    "    with tf.Session() as sess:\n",
    "        sess.run(tf.global_variables_initializer())\n",
    "        writer = tf.summary.FileWriter('./graphs/train', tf.get_default_graph())\n",
    "        val_writer = tf.summary.FileWriter('./graphs/val')\n",
    "        saver = tf.train.Saver()\n",
    "\n",
    "        if not os.path.exists('model'):\n",
    "            os.mkdir('model')\n",
    "            \n",
    "        summary_op = tf.summary.merge_all()\n",
    "        #val_summary_op = tf.summary.merge_all()\n",
    "        for epoch in range(N_EPOCH):\n",
    "            i = 0\n",
    "            epoch_acc = 0.0 # 用于plt画图\n",
    "            epoch_loss = 0.0\n",
    "            epoch_acc_val = 0.0\n",
    "            epoch_loss_val = 0.0\n",
    "            '''\n",
    "            Train\n",
    "            '''\n",
    "            sess.run(train_init_op) # 训练集数据\n",
    "            for i in range(N_BATCH):\n",
    "                _, summary, _loss, acc = sess.run([train_op, summary_op, loss, accuracy])\n",
    "                epoch_acc += acc\n",
    "                epoch_loss += _loss\n",
    "            if (epoch + 1) % 20 == 0:\n",
    "                saver.save(sess, 'model/cifar10_cnn.ckpt', global_step=epoch + 1)\n",
    "            #writer.add_summary(summary=summary, global_step=epoch)\n",
    "            epoch_acc /= N_BATCH\n",
    "            epoch_loss /= N_BATCH\n",
    "            epoch_acc_list.append(epoch_acc)\n",
    "            epoch_loss_list.append(epoch_loss)\n",
    "            summary_ = tf.Summary()\n",
    "            summary_.ParseFromString(summary)\n",
    "            summary_.value.add(tag='accuracy', simple_value=epoch_acc)\n",
    "            summary_.value.add(tag='loss', simple_value=epoch_loss)\n",
    "            writer.add_summary(summary=summary_, global_step=epoch)\n",
    "            \n",
    "            '''\n",
    "            Val\n",
    "            转用验证集数据，先把10000测试集张图片shuffle(seed=42)，把偶数batch的数据作为验证数据\n",
    "            '''\n",
    "            sess.run(val_init_op)\n",
    "            for i in range(N_BATCH_VAL):\n",
    "                summary_val, loss_val, acc_val = sess.run([summary_op, loss, accuracy])\n",
    "                if i % 2 == 0:# 偶数用于验证\n",
    "                    epoch_acc_val += acc_val\n",
    "                    epoch_loss_val += loss_val\n",
    "            epoch_acc_val /= N_BATCH_VAL / 2\n",
    "            epoch_loss_val /= N_BATCH_VAL / 2\n",
    "            epoch_acc_val_list.append(epoch_acc_val)\n",
    "            epoch_loss_val_list.append(epoch_loss_val)\n",
    "            summary_ = tf.Summary()\n",
    "            summary_.ParseFromString(summary_val)\n",
    "            summary_.value.add(tag='accuracy', simple_value=epoch_acc_val)\n",
    "            summary_.value.add(tag='loss', simple_value=epoch_loss_val)\n",
    "            val_writer.add_summary(summary=summary_, global_step=epoch)\n",
    "            \n",
    "            print(\"epoch {0} / {1:}\\t:Train loss {2:.5f}\\t Train acc {3:.5f}: \\\n",
    "                  Val loss {4:.5f}\\t Val acc {5:.5f}\".format(epoch + 1, N_EPOCH, epoch_loss, epoch_acc, epoch_loss_val, epoch_acc_val))\n",
    "        plt_loss_acc(epoch_loss_list, epoch_acc_list, epoch_loss_val_list, epoch_acc_val_list)\n",
    "    writer.close()\n",
    "    val_writer.close()"
   ]
  },
  {
   "cell_type": "code",
   "execution_count": 8,
   "metadata": {
    "collapsed": false
   },
   "outputs": [
    {
     "name": "stdout",
     "output_type": "stream",
     "text": [
      "epoch 1 / 200\t:Train loss 2.30287\t Train acc 0.17074:                   Val loss 2.14543\t Val acc 0.21880\n",
      "epoch 2 / 200\t:Train loss 2.07422\t Train acc 0.25596:                   Val loss 2.00364\t Val acc 0.27900\n",
      "epoch 3 / 200\t:Train loss 1.95998\t Train acc 0.30116:                   Val loss 1.91707\t Val acc 0.31260\n",
      "epoch 4 / 200\t:Train loss 1.87468\t Train acc 0.33188:                   Val loss 1.84852\t Val acc 0.33560\n",
      "epoch 5 / 200\t:Train loss 1.80627\t Train acc 0.35612:                   Val loss 1.79149\t Val acc 0.35460\n",
      "epoch 6 / 200\t:Train loss 1.74961\t Train acc 0.37412:                   Val loss 1.74930\t Val acc 0.37060\n",
      "epoch 7 / 200\t:Train loss 1.70275\t Train acc 0.39126:                   Val loss 1.71172\t Val acc 0.38260\n",
      "epoch 8 / 200\t:Train loss 1.66332\t Train acc 0.40610:                   Val loss 1.67743\t Val acc 0.39460\n",
      "epoch 9 / 200\t:Train loss 1.62852\t Train acc 0.41874:                   Val loss 1.65275\t Val acc 0.40360\n",
      "epoch 10 / 200\t:Train loss 1.59852\t Train acc 0.42830:                   Val loss 1.62316\t Val acc 0.41740\n",
      "epoch 11 / 200\t:Train loss 1.57205\t Train acc 0.43988:                   Val loss 1.61167\t Val acc 0.41660\n",
      "epoch 12 / 200\t:Train loss 1.54786\t Train acc 0.44704:                   Val loss 1.59780\t Val acc 0.42420\n",
      "epoch 13 / 200\t:Train loss 1.52492\t Train acc 0.45534:                   Val loss 1.57166\t Val acc 0.43540\n",
      "epoch 14 / 200\t:Train loss 1.50548\t Train acc 0.46224:                   Val loss 1.55395\t Val acc 0.44040\n",
      "epoch 15 / 200\t:Train loss 1.48565\t Train acc 0.46810:                   Val loss 1.54202\t Val acc 0.44260\n",
      "epoch 16 / 200\t:Train loss 1.46902\t Train acc 0.47622:                   Val loss 1.52517\t Val acc 0.44800\n",
      "epoch 17 / 200\t:Train loss 1.45414\t Train acc 0.48046:                   Val loss 1.52368\t Val acc 0.45200\n",
      "epoch 18 / 200\t:Train loss 1.43944\t Train acc 0.48578:                   Val loss 1.50884\t Val acc 0.45380\n",
      "epoch 19 / 200\t:Train loss 1.42632\t Train acc 0.49072:                   Val loss 1.51604\t Val acc 0.44860\n",
      "epoch 20 / 200\t:Train loss 1.41326\t Train acc 0.49630:                   Val loss 1.49832\t Val acc 0.45920\n",
      "epoch 21 / 200\t:Train loss 1.40099\t Train acc 0.50222:                   Val loss 1.48062\t Val acc 0.46380\n",
      "epoch 22 / 200\t:Train loss 1.38937\t Train acc 0.50576:                   Val loss 1.47233\t Val acc 0.46580\n",
      "epoch 23 / 200\t:Train loss 1.37861\t Train acc 0.50990:                   Val loss 1.46327\t Val acc 0.47080\n",
      "epoch 24 / 200\t:Train loss 1.36808\t Train acc 0.51288:                   Val loss 1.46196\t Val acc 0.47380\n",
      "epoch 25 / 200\t:Train loss 1.35863\t Train acc 0.51612:                   Val loss 1.45713\t Val acc 0.46640\n",
      "epoch 26 / 200\t:Train loss 1.34761\t Train acc 0.52054:                   Val loss 1.44537\t Val acc 0.47720\n",
      "epoch 27 / 200\t:Train loss 1.33850\t Train acc 0.52384:                   Val loss 1.44950\t Val acc 0.47820\n",
      "epoch 28 / 200\t:Train loss 1.32994\t Train acc 0.52856:                   Val loss 1.44526\t Val acc 0.47760\n",
      "epoch 29 / 200\t:Train loss 1.32332\t Train acc 0.53032:                   Val loss 1.43926\t Val acc 0.47780\n",
      "epoch 30 / 200\t:Train loss 1.31346\t Train acc 0.53358:                   Val loss 1.43189\t Val acc 0.48080\n",
      "epoch 31 / 200\t:Train loss 1.30590\t Train acc 0.53536:                   Val loss 1.41622\t Val acc 0.48980\n",
      "epoch 32 / 200\t:Train loss 1.29875\t Train acc 0.53930:                   Val loss 1.41519\t Val acc 0.49000\n",
      "epoch 33 / 200\t:Train loss 1.28965\t Train acc 0.54264:                   Val loss 1.41147\t Val acc 0.49000\n",
      "epoch 34 / 200\t:Train loss 1.28343\t Train acc 0.54602:                   Val loss 1.40543\t Val acc 0.49860\n",
      "epoch 35 / 200\t:Train loss 1.27741\t Train acc 0.54790:                   Val loss 1.40157\t Val acc 0.50180\n",
      "epoch 36 / 200\t:Train loss 1.26749\t Train acc 0.55166:                   Val loss 1.40875\t Val acc 0.50060\n",
      "epoch 37 / 200\t:Train loss 1.26197\t Train acc 0.55292:                   Val loss 1.40582\t Val acc 0.49320\n",
      "epoch 38 / 200\t:Train loss 1.25550\t Train acc 0.55656:                   Val loss 1.39342\t Val acc 0.50160\n",
      "epoch 39 / 200\t:Train loss 1.24875\t Train acc 0.56036:                   Val loss 1.38442\t Val acc 0.50500\n",
      "epoch 40 / 200\t:Train loss 1.24244\t Train acc 0.56044:                   Val loss 1.38595\t Val acc 0.50680\n",
      "epoch 41 / 200\t:Train loss 1.23644\t Train acc 0.56574:                   Val loss 1.37682\t Val acc 0.50480\n",
      "epoch 42 / 200\t:Train loss 1.23218\t Train acc 0.56554:                   Val loss 1.37956\t Val acc 0.51000\n",
      "epoch 43 / 200\t:Train loss 1.22511\t Train acc 0.56844:                   Val loss 1.37483\t Val acc 0.50580\n",
      "epoch 44 / 200\t:Train loss 1.21783\t Train acc 0.57164:                   Val loss 1.36954\t Val acc 0.50780\n",
      "epoch 45 / 200\t:Train loss 1.21252\t Train acc 0.57384:                   Val loss 1.36950\t Val acc 0.51280\n",
      "epoch 46 / 200\t:Train loss 1.20628\t Train acc 0.57662:                   Val loss 1.37577\t Val acc 0.51180\n",
      "epoch 47 / 200\t:Train loss 1.20240\t Train acc 0.57738:                   Val loss 1.36707\t Val acc 0.51180\n",
      "epoch 48 / 200\t:Train loss 1.19495\t Train acc 0.58062:                   Val loss 1.36406\t Val acc 0.51760\n",
      "epoch 49 / 200\t:Train loss 1.19020\t Train acc 0.58280:                   Val loss 1.36135\t Val acc 0.51460\n",
      "epoch 50 / 200\t:Train loss 1.18512\t Train acc 0.58266:                   Val loss 1.36285\t Val acc 0.51100\n",
      "epoch 51 / 200\t:Train loss 1.18061\t Train acc 0.58674:                   Val loss 1.34611\t Val acc 0.51940\n",
      "epoch 52 / 200\t:Train loss 1.17430\t Train acc 0.58788:                   Val loss 1.35507\t Val acc 0.51220\n",
      "epoch 53 / 200\t:Train loss 1.17047\t Train acc 0.58926:                   Val loss 1.34860\t Val acc 0.52140\n",
      "epoch 54 / 200\t:Train loss 1.16598\t Train acc 0.59104:                   Val loss 1.35252\t Val acc 0.51560\n",
      "epoch 55 / 200\t:Train loss 1.16015\t Train acc 0.59278:                   Val loss 1.34445\t Val acc 0.51780\n",
      "epoch 56 / 200\t:Train loss 1.15502\t Train acc 0.59532:                   Val loss 1.34249\t Val acc 0.52400\n",
      "epoch 57 / 200\t:Train loss 1.15069\t Train acc 0.59714:                   Val loss 1.34198\t Val acc 0.51980\n",
      "epoch 58 / 200\t:Train loss 1.14679\t Train acc 0.59792:                   Val loss 1.34108\t Val acc 0.51760\n",
      "epoch 59 / 200\t:Train loss 1.14142\t Train acc 0.60002:                   Val loss 1.34336\t Val acc 0.51620\n",
      "epoch 60 / 200\t:Train loss 1.13837\t Train acc 0.60162:                   Val loss 1.33912\t Val acc 0.52220\n",
      "epoch 61 / 200\t:Train loss 1.13366\t Train acc 0.60320:                   Val loss 1.33479\t Val acc 0.52000\n",
      "epoch 62 / 200\t:Train loss 1.12829\t Train acc 0.60648:                   Val loss 1.33242\t Val acc 0.52360\n",
      "epoch 63 / 200\t:Train loss 1.12459\t Train acc 0.60566:                   Val loss 1.33622\t Val acc 0.52020\n",
      "epoch 64 / 200\t:Train loss 1.12108\t Train acc 0.60834:                   Val loss 1.33130\t Val acc 0.52440\n",
      "epoch 65 / 200\t:Train loss 1.11583\t Train acc 0.61172:                   Val loss 1.33325\t Val acc 0.51760\n",
      "epoch 66 / 200\t:Train loss 1.11207\t Train acc 0.61170:                   Val loss 1.33098\t Val acc 0.52560\n",
      "epoch 67 / 200\t:Train loss 1.10866\t Train acc 0.61302:                   Val loss 1.32222\t Val acc 0.52460\n",
      "epoch 68 / 200\t:Train loss 1.10464\t Train acc 0.61460:                   Val loss 1.33103\t Val acc 0.52380\n",
      "epoch 69 / 200\t:Train loss 1.09875\t Train acc 0.61694:                   Val loss 1.33069\t Val acc 0.52660\n",
      "epoch 70 / 200\t:Train loss 1.09597\t Train acc 0.61802:                   Val loss 1.32089\t Val acc 0.52960\n",
      "epoch 71 / 200\t:Train loss 1.09241\t Train acc 0.62034:                   Val loss 1.31794\t Val acc 0.52800\n",
      "epoch 72 / 200\t:Train loss 1.08917\t Train acc 0.62002:                   Val loss 1.32135\t Val acc 0.53200\n",
      "epoch 73 / 200\t:Train loss 1.08498\t Train acc 0.62150:                   Val loss 1.32413\t Val acc 0.53140\n",
      "epoch 74 / 200\t:Train loss 1.08253\t Train acc 0.62266:                   Val loss 1.31873\t Val acc 0.52440\n",
      "epoch 75 / 200\t:Train loss 1.07744\t Train acc 0.62544:                   Val loss 1.31992\t Val acc 0.52800\n",
      "epoch 76 / 200\t:Train loss 1.07447\t Train acc 0.62544:                   Val loss 1.31953\t Val acc 0.52980\n",
      "epoch 77 / 200\t:Train loss 1.07030\t Train acc 0.62706:                   Val loss 1.31501\t Val acc 0.53340\n",
      "epoch 78 / 200\t:Train loss 1.06648\t Train acc 0.62954:                   Val loss 1.31191\t Val acc 0.53360\n",
      "epoch 79 / 200\t:Train loss 1.06380\t Train acc 0.63020:                   Val loss 1.31479\t Val acc 0.53060\n",
      "epoch 80 / 200\t:Train loss 1.06032\t Train acc 0.63042:                   Val loss 1.30793\t Val acc 0.53340\n",
      "epoch 81 / 200\t:Train loss 1.05651\t Train acc 0.63338:                   Val loss 1.30884\t Val acc 0.53320\n",
      "epoch 82 / 200\t:Train loss 1.05256\t Train acc 0.63334:                   Val loss 1.31542\t Val acc 0.53160\n",
      "epoch 83 / 200\t:Train loss 1.04992\t Train acc 0.63472:                   Val loss 1.30827\t Val acc 0.53040\n",
      "epoch 84 / 200\t:Train loss 1.04625\t Train acc 0.63748:                   Val loss 1.31266\t Val acc 0.53600\n",
      "epoch 85 / 200\t:Train loss 1.04355\t Train acc 0.63814:                   Val loss 1.30615\t Val acc 0.53700\n",
      "epoch 86 / 200\t:Train loss 1.04148\t Train acc 0.63922:                   Val loss 1.30802\t Val acc 0.53560\n",
      "epoch 87 / 200\t:Train loss 1.03833\t Train acc 0.64022:                   Val loss 1.31557\t Val acc 0.53540\n",
      "epoch 88 / 200\t:Train loss 1.03550\t Train acc 0.64220:                   Val loss 1.30260\t Val acc 0.53860\n",
      "epoch 89 / 200\t:Train loss 1.03202\t Train acc 0.64160:                   Val loss 1.30284\t Val acc 0.53280\n",
      "epoch 90 / 200\t:Train loss 1.02972\t Train acc 0.64428:                   Val loss 1.30533\t Val acc 0.53860\n",
      "epoch 91 / 200\t:Train loss 1.02458\t Train acc 0.64506:                   Val loss 1.31085\t Val acc 0.53460\n",
      "epoch 92 / 200\t:Train loss 1.02269\t Train acc 0.64658:                   Val loss 1.30007\t Val acc 0.53960\n",
      "epoch 93 / 200\t:Train loss 1.01898\t Train acc 0.64768:                   Val loss 1.30599\t Val acc 0.54080\n",
      "epoch 94 / 200\t:Train loss 1.01563\t Train acc 0.64856:                   Val loss 1.31205\t Val acc 0.53720\n",
      "epoch 95 / 200\t:Train loss 1.01315\t Train acc 0.64948:                   Val loss 1.30336\t Val acc 0.54100\n",
      "epoch 96 / 200\t:Train loss 1.01001\t Train acc 0.65066:                   Val loss 1.30915\t Val acc 0.54080\n",
      "epoch 97 / 200\t:Train loss 1.00878\t Train acc 0.65172:                   Val loss 1.31102\t Val acc 0.53860\n",
      "epoch 98 / 200\t:Train loss 1.00532\t Train acc 0.65280:                   Val loss 1.30173\t Val acc 0.54220\n",
      "epoch 99 / 200\t:Train loss 1.00230\t Train acc 0.65326:                   Val loss 1.31493\t Val acc 0.53420\n",
      "epoch 100 / 200\t:Train loss 0.99950\t Train acc 0.65628:                   Val loss 1.32677\t Val acc 0.53580\n",
      "epoch 101 / 200\t:Train loss 0.99963\t Train acc 0.65502:                   Val loss 1.30558\t Val acc 0.54240\n",
      "epoch 102 / 200\t:Train loss 0.99338\t Train acc 0.65656:                   Val loss 1.30669\t Val acc 0.54340\n",
      "epoch 103 / 200\t:Train loss 0.99075\t Train acc 0.65906:                   Val loss 1.30114\t Val acc 0.54360\n",
      "epoch 104 / 200\t:Train loss 0.98878\t Train acc 0.65870:                   Val loss 1.29887\t Val acc 0.54640\n",
      "epoch 105 / 200\t:Train loss 0.98801\t Train acc 0.65776:                   Val loss 1.31640\t Val acc 0.53640\n",
      "epoch 106 / 200\t:Train loss 0.98437\t Train acc 0.66176:                   Val loss 1.30271\t Val acc 0.54280\n",
      "epoch 107 / 200\t:Train loss 0.98087\t Train acc 0.66292:                   Val loss 1.30086\t Val acc 0.54540\n",
      "epoch 108 / 200\t:Train loss 0.97869\t Train acc 0.66348:                   Val loss 1.30970\t Val acc 0.54120\n",
      "epoch 109 / 200\t:Train loss 0.97753\t Train acc 0.66190:                   Val loss 1.29644\t Val acc 0.54780\n",
      "epoch 110 / 200\t:Train loss 0.97514\t Train acc 0.66466:                   Val loss 1.29740\t Val acc 0.54480\n",
      "epoch 111 / 200\t:Train loss 0.97161\t Train acc 0.66492:                   Val loss 1.30136\t Val acc 0.54660\n",
      "epoch 112 / 200\t:Train loss 0.96897\t Train acc 0.66496:                   Val loss 1.29792\t Val acc 0.54700\n",
      "epoch 113 / 200\t:Train loss 0.96772\t Train acc 0.66618:                   Val loss 1.30032\t Val acc 0.54480\n",
      "epoch 114 / 200\t:Train loss 0.96417\t Train acc 0.66786:                   Val loss 1.29763\t Val acc 0.54820\n",
      "epoch 115 / 200\t:Train loss 0.96146\t Train acc 0.66960:                   Val loss 1.29953\t Val acc 0.54780\n",
      "epoch 116 / 200\t:Train loss 0.96053\t Train acc 0.66942:                   Val loss 1.30965\t Val acc 0.54220\n",
      "epoch 117 / 200\t:Train loss 0.95878\t Train acc 0.67038:                   Val loss 1.29596\t Val acc 0.54700\n",
      "epoch 118 / 200\t:Train loss 0.95552\t Train acc 0.67170:                   Val loss 1.29416\t Val acc 0.55280\n",
      "epoch 119 / 200\t:Train loss 0.95248\t Train acc 0.67126:                   Val loss 1.30051\t Val acc 0.55060\n",
      "epoch 120 / 200\t:Train loss 0.95072\t Train acc 0.67276:                   Val loss 1.31477\t Val acc 0.54000\n",
      "epoch 121 / 200\t:Train loss 0.94743\t Train acc 0.67412:                   Val loss 1.29667\t Val acc 0.54620\n",
      "epoch 122 / 200\t:Train loss 0.94542\t Train acc 0.67504:                   Val loss 1.29890\t Val acc 0.54800\n",
      "epoch 123 / 200\t:Train loss 0.94394\t Train acc 0.67658:                   Val loss 1.29476\t Val acc 0.55100\n",
      "epoch 124 / 200\t:Train loss 0.94361\t Train acc 0.67602:                   Val loss 1.29821\t Val acc 0.54700\n",
      "epoch 125 / 200\t:Train loss 0.94037\t Train acc 0.67704:                   Val loss 1.30182\t Val acc 0.54920\n",
      "epoch 126 / 200\t:Train loss 0.93670\t Train acc 0.67844:                   Val loss 1.29635\t Val acc 0.54840\n",
      "epoch 127 / 200\t:Train loss 0.93580\t Train acc 0.67898:                   Val loss 1.30624\t Val acc 0.54800\n",
      "epoch 128 / 200\t:Train loss 0.93314\t Train acc 0.67952:                   Val loss 1.31012\t Val acc 0.54900\n",
      "epoch 129 / 200\t:Train loss 0.93198\t Train acc 0.67920:                   Val loss 1.30672\t Val acc 0.54400\n",
      "epoch 130 / 200\t:Train loss 0.92946\t Train acc 0.68172:                   Val loss 1.30510\t Val acc 0.54460\n",
      "epoch 131 / 200\t:Train loss 0.92720\t Train acc 0.68150:                   Val loss 1.30081\t Val acc 0.54900\n",
      "epoch 132 / 200\t:Train loss 0.92425\t Train acc 0.68098:                   Val loss 1.30807\t Val acc 0.54980\n",
      "epoch 133 / 200\t:Train loss 0.92212\t Train acc 0.68368:                   Val loss 1.31384\t Val acc 0.54660\n",
      "epoch 134 / 200\t:Train loss 0.92118\t Train acc 0.68466:                   Val loss 1.31014\t Val acc 0.54760\n",
      "epoch 135 / 200\t:Train loss 0.91956\t Train acc 0.68518:                   Val loss 1.30396\t Val acc 0.55040\n",
      "epoch 136 / 200\t:Train loss 0.91651\t Train acc 0.68592:                   Val loss 1.30708\t Val acc 0.55160\n",
      "epoch 137 / 200\t:Train loss 0.91594\t Train acc 0.68552:                   Val loss 1.30538\t Val acc 0.54880\n",
      "epoch 138 / 200\t:Train loss 0.91206\t Train acc 0.68728:                   Val loss 1.30720\t Val acc 0.54980\n",
      "epoch 139 / 200\t:Train loss 0.91032\t Train acc 0.68980:                   Val loss 1.30634\t Val acc 0.55180\n",
      "epoch 140 / 200\t:Train loss 0.90703\t Train acc 0.68980:                   Val loss 1.30641\t Val acc 0.55380\n",
      "epoch 141 / 200\t:Train loss 0.90625\t Train acc 0.68958:                   Val loss 1.30841\t Val acc 0.55280\n",
      "epoch 142 / 200\t:Train loss 0.90450\t Train acc 0.68950:                   Val loss 1.30428\t Val acc 0.54740\n",
      "epoch 143 / 200\t:Train loss 0.90285\t Train acc 0.69072:                   Val loss 1.32096\t Val acc 0.54820\n",
      "epoch 144 / 200\t:Train loss 0.90032\t Train acc 0.69214:                   Val loss 1.31963\t Val acc 0.54320\n",
      "epoch 145 / 200\t:Train loss 0.89817\t Train acc 0.69118:                   Val loss 1.31604\t Val acc 0.54600\n",
      "epoch 146 / 200\t:Train loss 0.89603\t Train acc 0.69298:                   Val loss 1.31598\t Val acc 0.54960\n",
      "epoch 147 / 200\t:Train loss 0.89404\t Train acc 0.69464:                   Val loss 1.31354\t Val acc 0.55040\n",
      "epoch 148 / 200\t:Train loss 0.89269\t Train acc 0.69522:                   Val loss 1.31734\t Val acc 0.55020\n",
      "epoch 149 / 200\t:Train loss 0.89206\t Train acc 0.69370:                   Val loss 1.31717\t Val acc 0.55060\n",
      "epoch 150 / 200\t:Train loss 0.88779\t Train acc 0.69502:                   Val loss 1.32987\t Val acc 0.54400\n",
      "epoch 151 / 200\t:Train loss 0.88842\t Train acc 0.69416:                   Val loss 1.30673\t Val acc 0.54940\n",
      "epoch 152 / 200\t:Train loss 0.88536\t Train acc 0.69736:                   Val loss 1.30931\t Val acc 0.55120\n",
      "epoch 153 / 200\t:Train loss 0.88269\t Train acc 0.69860:                   Val loss 1.31510\t Val acc 0.55000\n",
      "epoch 154 / 200\t:Train loss 0.88142\t Train acc 0.69818:                   Val loss 1.31479\t Val acc 0.55340\n",
      "epoch 155 / 200\t:Train loss 0.88061\t Train acc 0.69934:                   Val loss 1.31405\t Val acc 0.55160\n",
      "epoch 156 / 200\t:Train loss 0.87683\t Train acc 0.70122:                   Val loss 1.31124\t Val acc 0.55240\n",
      "epoch 157 / 200\t:Train loss 0.87624\t Train acc 0.69884:                   Val loss 1.31309\t Val acc 0.55200\n",
      "epoch 158 / 200\t:Train loss 0.87450\t Train acc 0.69978:                   Val loss 1.31245\t Val acc 0.54700\n",
      "epoch 159 / 200\t:Train loss 0.87217\t Train acc 0.70254:                   Val loss 1.31030\t Val acc 0.55260\n",
      "epoch 160 / 200\t:Train loss 0.87134\t Train acc 0.70194:                   Val loss 1.32090\t Val acc 0.54620\n",
      "epoch 161 / 200\t:Train loss 0.87052\t Train acc 0.70246:                   Val loss 1.32893\t Val acc 0.55120\n",
      "epoch 162 / 200\t:Train loss 0.86684\t Train acc 0.70396:                   Val loss 1.31833\t Val acc 0.55020\n",
      "epoch 163 / 200\t:Train loss 0.86640\t Train acc 0.70374:                   Val loss 1.32054\t Val acc 0.55020\n",
      "epoch 164 / 200\t:Train loss 0.86319\t Train acc 0.70546:                   Val loss 1.31325\t Val acc 0.55460\n",
      "epoch 165 / 200\t:Train loss 0.86264\t Train acc 0.70526:                   Val loss 1.31827\t Val acc 0.55240\n",
      "epoch 166 / 200\t:Train loss 0.86108\t Train acc 0.70524:                   Val loss 1.32289\t Val acc 0.55120\n",
      "epoch 167 / 200\t:Train loss 0.85873\t Train acc 0.70608:                   Val loss 1.32645\t Val acc 0.54820\n",
      "epoch 168 / 200\t:Train loss 0.85663\t Train acc 0.70734:                   Val loss 1.32844\t Val acc 0.54740\n",
      "epoch 169 / 200\t:Train loss 0.85526\t Train acc 0.70840:                   Val loss 1.32365\t Val acc 0.55400\n",
      "epoch 170 / 200\t:Train loss 0.85270\t Train acc 0.70908:                   Val loss 1.32434\t Val acc 0.55060\n",
      "epoch 171 / 200\t:Train loss 0.85162\t Train acc 0.71024:                   Val loss 1.33544\t Val acc 0.55300\n",
      "epoch 172 / 200\t:Train loss 0.85094\t Train acc 0.71004:                   Val loss 1.32036\t Val acc 0.55840\n",
      "epoch 173 / 200\t:Train loss 0.84866\t Train acc 0.71046:                   Val loss 1.33475\t Val acc 0.55020\n",
      "epoch 174 / 200\t:Train loss 0.84589\t Train acc 0.71090:                   Val loss 1.32638\t Val acc 0.55520\n",
      "epoch 175 / 200\t:Train loss 0.84448\t Train acc 0.71174:                   Val loss 1.33428\t Val acc 0.54780\n",
      "epoch 176 / 200\t:Train loss 0.84338\t Train acc 0.71282:                   Val loss 1.32412\t Val acc 0.55480\n",
      "epoch 177 / 200\t:Train loss 0.84238\t Train acc 0.71294:                   Val loss 1.33028\t Val acc 0.54960\n",
      "epoch 178 / 200\t:Train loss 0.83975\t Train acc 0.71486:                   Val loss 1.32147\t Val acc 0.55380\n",
      "epoch 179 / 200\t:Train loss 0.83803\t Train acc 0.71532:                   Val loss 1.32522\t Val acc 0.55660\n",
      "epoch 180 / 200\t:Train loss 0.83706\t Train acc 0.71570:                   Val loss 1.32564\t Val acc 0.55440\n",
      "epoch 181 / 200\t:Train loss 0.83552\t Train acc 0.71468:                   Val loss 1.32268\t Val acc 0.55580\n",
      "epoch 182 / 200\t:Train loss 0.83312\t Train acc 0.71592:                   Val loss 1.32522\t Val acc 0.55700\n",
      "epoch 183 / 200\t:Train loss 0.83347\t Train acc 0.71478:                   Val loss 1.32591\t Val acc 0.55200\n",
      "epoch 184 / 200\t:Train loss 0.82980\t Train acc 0.71922:                   Val loss 1.33138\t Val acc 0.55400\n",
      "epoch 185 / 200\t:Train loss 0.82769\t Train acc 0.71728:                   Val loss 1.33976\t Val acc 0.55500\n",
      "epoch 186 / 200\t:Train loss 0.82673\t Train acc 0.71802:                   Val loss 1.32772\t Val acc 0.55540\n",
      "epoch 187 / 200\t:Train loss 0.82569\t Train acc 0.72018:                   Val loss 1.33561\t Val acc 0.55280\n",
      "epoch 188 / 200\t:Train loss 0.82267\t Train acc 0.71972:                   Val loss 1.33190\t Val acc 0.55980\n",
      "epoch 189 / 200\t:Train loss 0.82242\t Train acc 0.72114:                   Val loss 1.33931\t Val acc 0.55580\n",
      "epoch 190 / 200\t:Train loss 0.82091\t Train acc 0.72022:                   Val loss 1.33552\t Val acc 0.55440\n",
      "epoch 191 / 200\t:Train loss 0.81830\t Train acc 0.72226:                   Val loss 1.33306\t Val acc 0.55840\n",
      "epoch 192 / 200\t:Train loss 0.81759\t Train acc 0.72218:                   Val loss 1.33260\t Val acc 0.55640\n",
      "epoch 193 / 200\t:Train loss 0.81634\t Train acc 0.72334:                   Val loss 1.34337\t Val acc 0.55220\n",
      "epoch 194 / 200\t:Train loss 0.81491\t Train acc 0.72234:                   Val loss 1.33478\t Val acc 0.55140\n",
      "epoch 195 / 200\t:Train loss 0.81475\t Train acc 0.72368:                   Val loss 1.34494\t Val acc 0.54840\n",
      "epoch 196 / 200\t:Train loss 0.81209\t Train acc 0.72474:                   Val loss 1.34925\t Val acc 0.55200\n",
      "epoch 197 / 200\t:Train loss 0.81083\t Train acc 0.72520:                   Val loss 1.34159\t Val acc 0.55500\n",
      "epoch 198 / 200\t:Train loss 0.80747\t Train acc 0.72534:                   Val loss 1.35248\t Val acc 0.54700\n",
      "epoch 199 / 200\t:Train loss 0.80742\t Train acc 0.72594:                   Val loss 1.34696\t Val acc 0.55120\n",
      "epoch 200 / 200\t:Train loss 0.80525\t Train acc 0.72596:                   Val loss 1.34051\t Val acc 0.55000\n"
     ]
    },
    {
     "data": {
      "image/png": "[encoded data removed]",
      "text/plain": [
       "<Figure size 1008x360 with 2 Axes>"
      ]
     },
     "metadata": {},
     "output_type": "display_data"
    }
   ],
   "source": [
    "dataset = load_cifar10(data_path, BATCH_SIZE_TRAIN, shuffle=True)#训练集数据\n",
    "dataset_val = load_cifar10(data_path, BATCH_SIZE_TRAIN, test=True, shuffle=True, seed=42)#验证集数据\n",
    "train(dataset, dataset_val,TRAIN_SIZE, TEST_SIZE, BATCH_SIZE_TRAIN)"
   ]
  },
  {
   "cell_type": "markdown",
   "metadata": {},
   "source": [
    "# Test"
   ]
  },
  {
   "cell_type": "code",
   "execution_count": 9,
   "metadata": {
    "collapsed": false
   },
   "outputs": [],
   "source": [
    "def test(dataset, TEST_SIZE, batch_size):\n",
    "    iter = dataset.make_one_shot_iterator()\n",
    "    xs, ys = iter.get_next()\n",
    "    ys = tf.reshape(ys, (BATCH_SIZE_TRAIN, 10))\n",
    "    \n",
    "    output = model_(xs)\n",
    "    loss, accuracy = loss_acc(ys, output)\n",
    "    \n",
    "    N_BATCH_TEST =  TEST_SIZE // batch_size\n",
    "    print(\"Numbers of testing batch size: \", N_BATCH_TEST)\n",
    "    saver = tf.train.Saver()\n",
    "    with tf.Session() as sess:\n",
    "        sess.run(tf.global_variables_initializer())\n",
    "        ckpt = tf.train.get_checkpoint_state(os.path.dirname('model/checkpoint'))\n",
    "        if ckpt and ckpt.model_checkpoint_path:\n",
    "            saver.restore(sess, ckpt.model_checkpoint_path)\n",
    "        for epoch in range(1):\n",
    "            e_loss = 0.0\n",
    "            e_acc = 0.0\n",
    "            for i in range(N_BATCH_TEST):\n",
    "                _loss, acc = sess.run([loss, accuracy])\n",
    "                if i % 2 == 1:# 奇数用于测试\n",
    "                    e_loss += _loss\n",
    "                    e_acc += acc\n",
    "            epoch_loss = 2 * e_loss / N_BATCH_TEST\n",
    "            epoch_acc = 2 * e_acc / N_BATCH_TEST\n",
    "            print(\"epoch {0} / {1:}\\t Test acc {2:.5f}\".format(epoch + 1, 1, epoch_acc))"
   ]
  },
  {
   "cell_type": "code",
   "execution_count": 10,
   "metadata": {
    "collapsed": false
   },
   "outputs": [
    {
     "name": "stdout",
     "output_type": "stream",
     "text": [
      "Numbers of testing batch size:  100\n",
      "INFO:tensorflow:Restoring parameters from model\\cifar10_cnn.ckpt-200\n",
      "epoch 1 / 1\t Test acc 0.55660\n"
     ]
    }
   ],
   "source": [
    "dataset_test = load_cifar10(data_path, BATCH_SIZE_TRAIN, test=True, shuffle=True, seed=42)\n",
    "test(dataset_test, TEST_SIZE, BATCH_SIZE_TRAIN)"
   ]
  },
  {
   "cell_type": "code",
   "execution_count": null,
   "metadata": {
    "collapsed": true
   },
   "outputs": [],
   "source": []
  }
 ],
 "metadata": {
  "anaconda-cloud": {},
  "kernelspec": {
   "display_name": "Python [conda env:tf]",
   "language": "python",
   "name": "conda-env-tf-py"
  },
  "language_info": {
   "codemirror_mode": {
    "name": "ipython",
    "version": 3
   },
   "file_extension": ".py",
   "mimetype": "text/x-python",
   "name": "python",
   "nbconvert_exporter": "python",
   "pygments_lexer": "ipython3",
   "version": "3.5.4"
  }
 },
 "nbformat": 4,
 "nbformat_minor": 1
}
