{
 "cells": [
  {
   "cell_type": "code",
   "execution_count": 1,
   "metadata": {
    "collapsed": false
   },
   "outputs": [],
   "source": [
    "import numpy as np\n",
    "import matplotlib.pyplot as plt\n",
    "from data_util_KNN import readMnist"
   ]
  },
  {
   "cell_type": "code",
   "execution_count": 2,
   "metadata": {
    "collapsed": false
   },
   "outputs": [],
   "source": [
    "X_train, y_train, X_test, y_test = readMnist('E:\\Code\\jupyterpy\\Digital'\n",
    "                                             'Video\\datasets\\mnist')"
   ]
  },
  {
   "cell_type": "code",
   "execution_count": 3,
   "metadata": {
    "collapsed": false
   },
   "outputs": [],
   "source": [
    "mask = range(5000)\n",
    "X_tr = X_train[mask]\n",
    "y_tr = y_train[mask]\n",
    "mask = range(500)\n",
    "X_te = X_test[mask]\n",
    "y_te = y_test[mask]"
   ]
  },
  {
   "cell_type": "code",
   "execution_count": 4,
   "metadata": {
    "collapsed": false
   },
   "outputs": [
    {
     "name": "stdout",
     "output_type": "stream",
     "text": [
      "(785, 10)\n"
     ]
    },
    {
     "data": {
      "text/plain": [
       "array([[ 0.80494852,  0.90765804,  0.72454771, ...,  0.30158744,\n",
       "         0.90272307,  0.6233478 ],\n",
       "       [ 0.91114889,  0.84165155,  0.70317371, ...,  0.5170203 ,\n",
       "         0.56772921,  0.09373554],\n",
       "       [ 0.66437615,  0.66651792,  0.61080153, ...,  0.56486989,\n",
       "         0.79127343,  0.17587681],\n",
       "       ..., \n",
       "       [ 0.45672482,  0.14032603,  0.73310886, ...,  0.57979093,\n",
       "         0.28008893,  0.80227858],\n",
       "       [ 0.76021803,  0.60730959,  0.32624087, ...,  0.57817323,\n",
       "         0.29905183,  0.71498281],\n",
       "       [ 0.62510794,  0.48628265,  0.45963862, ...,  0.56807162,\n",
       "         0.22437052,  0.32629691]])"
      ]
     },
     "execution_count": 4,
     "metadata": {},
     "output_type": "execute_result"
    }
   ],
   "source": [
    "W = np.random.random((X_tr.shape[1] + 1, 10))\n",
    "print(W.shape)\n",
    "W"
   ]
  },
  {
   "cell_type": "code",
   "execution_count": 5,
   "metadata": {
    "collapsed": false
   },
   "outputs": [],
   "source": [
    "def featurenormal(X):\n",
    "    std = np.std(X, axis=1).reshape(-1, 1)\n",
    "    mean = np.mean(X, axis=1).reshape(-1, 1)\n",
    "    X_change = (X - mean) / std\n",
    "    return X_change, mean, std\n",
    "X_tr, mean, std= featurenormal(X_tr)"
   ]
  },
  {
   "cell_type": "markdown",
   "metadata": {},
   "source": [
    "#softmaxLoss$$L_{i} = -log\\frac{e^{s_{k}}}{\\sum_{j}{e^{s_{j}}}}$$"
   ]
  },
  {
   "cell_type": "markdown",
   "metadata": {},
   "source": [
    "$$L_{i} = -\\sum_{k}{}P_{ik}logP_{k} \\qquad \\frac{\\partial L_{i}}{\\partial P_{k}} = - \\frac{1}{P_{k}}$$"
   ]
  },
  {
   "cell_type": "markdown",
   "metadata": {},
   "source": [
    "$$P_{k} = \\frac{e^{s_{k}}}{\\sum_{j}{e^{s_{j}}}}$$"
   ]
  },
  {
   "cell_type": "markdown",
   "metadata": {},
   "source": [
    "$$k = m: \\quad \\frac{\\partial P_{k}}{\\partial s_{m}} = - \\frac{e^{s_{m}}\\sum_{j}e^{s_{j}} - (e^{s_{m}})^2}{(\\sum_{j}e^{s_{j}})^2} = P_{m}(1 - P_{m}) \\quad k \\not = m: \\quad \\frac{\\partial P_{k}}{\\partial s_{m}} = - \\frac{e^{s_{k}}e^{s_{m}}}{(\\sum_{j}e^{s_{j}})^2} = - P_{k}P_{m}$$"
   ]
  },
  {
   "cell_type": "markdown",
   "metadata": {},
   "source": [
    "$$s_{m} = (X_{i} \\times W)_{m} \\qquad \\frac{\\partial s_{m}}{\\partial W} = X_i$$"
   ]
  },
  {
   "cell_type": "markdown",
   "metadata": {},
   "source": [
    "$$k = m: \\quad \\frac{\\partial L_{i}}{\\partial W} = P_m - 1 \\quad k \\not = m: \\quad \\frac{\\partial L_{i}}{\\partial W} = P_{m}$$"
   ]
  },
  {
   "cell_type": "code",
   "execution_count": 6,
   "metadata": {
    "collapsed": false
   },
   "outputs": [],
   "source": [
    "def computeSoftmaxLoss(X_tr, y_tr, W, reg):\n",
    "    n, w = X_tr.shape\n",
    "    X_tr = np.c_[np.ones((n, 1)), X_tr]\n",
    "    s_mat = X_tr.dot(W)\n",
    "    s_m_argmax = np.argmax(s_mat, axis=1)\n",
    "    s_m_max = s_mat[range(n), s_m_argmax].reshape(-1, 1)\n",
    "    s_m_exp = np.exp(s_mat - s_m_max)\n",
    "    L_mat = - np.log(s_m_exp[range(n), y_tr] / np.sum(s_m_exp, axis=1))\n",
    "    L = np.sum(L_mat) / n\n",
    "    L += 0.5 * reg * np.sum(W ** 2)\n",
    "    dW = np.zeros(W.shape)\n",
    "    \n",
    "    '''\n",
    "    for i in range(n):\n",
    "        for m in range(W.shape[1]):\n",
    "            P_m = np.reshape((s_m_exp[range(n), m] / \n",
    "                            np.sum(s_m_exp, axis=1)), (-1, 1))\n",
    "            if (m == y_tr[i]):\n",
    "                dW[:, m] += X_tr[i] * (P_m[i] - 1)\n",
    "            else:\n",
    "                dW[:, m] += X_tr[i] * (P_m[i])\n",
    "    '''\n",
    "        \n",
    "    P_m = (s_m_exp / np.sum(s_m_exp, axis=1).reshape(-1, 1))\n",
    "    P_ik = np.zeros(P_m.shape)\n",
    "    P_ik[range(n), y_tr] = 1\n",
    "    dW = X_tr.T.dot(P_m - P_ik)\n",
    "    dW /= n\n",
    "    dW += reg * W \n",
    "    return L, dW"
   ]
  },
  {
   "cell_type": "code",
   "execution_count": 7,
   "metadata": {
    "collapsed": false
   },
   "outputs": [],
   "source": [
    "loss_softmax, grad_softmax = computeSoftmaxLoss(X_tr[:10], y_tr[:10], \n",
    "                                                W, reg=0)"
   ]
  },
  {
   "cell_type": "code",
   "execution_count": 8,
   "metadata": {
    "collapsed": true
   },
   "outputs": [],
   "source": [
    "def numComputeSoftmax(X_tr, y_tr, W, reg, h=0.000001):\n",
    "    w, k = W.shape\n",
    "    dW = np.zeros((w, k))\n",
    "    for i in range(w):\n",
    "        for j in range(k):\n",
    "            loss = computeSoftmaxLoss(X_tr[:10], y_tr[:10], W, 0)[0]\n",
    "            W[i, j] += h\n",
    "            loss_c = computeSoftmaxLoss(X_tr[:10], y_tr[:10], W, 0)[0]\n",
    "            dW[i, j] = (loss_c - loss) /  h\n",
    "    return dW"
   ]
  },
  {
   "cell_type": "code",
   "execution_count": 9,
   "metadata": {
    "collapsed": false
   },
   "outputs": [
    {
     "data": {
      "text/plain": [
       "array([[ -2.85524191e-02,  -2.93491350e-01,   9.50748813e-04, ...,\n",
       "          1.45805453e-01,   3.43865381e-04,  -9.94415448e-02],\n",
       "       [  1.57605609e-02,   9.00941028e-02,   1.29820314e-02, ...,\n",
       "         -6.60884787e-02,  -1.24215305e-04,   3.96309474e-02],\n",
       "       [  1.57605626e-02,   9.00941011e-02,   1.29820314e-02, ...,\n",
       "         -6.60884805e-02,  -1.24215305e-04,   3.96309456e-02],\n",
       "       ..., \n",
       "       [  1.57605644e-02,   9.00941011e-02,   1.29820314e-02, ...,\n",
       "         -6.60884787e-02,  -1.24215305e-04,   3.96309456e-02],\n",
       "       [  1.57605609e-02,   9.00941046e-02,   1.29820314e-02, ...,\n",
       "         -6.60884787e-02,  -1.24215305e-04,   3.96309456e-02],\n",
       "       [  1.57605626e-02,   9.00941046e-02,   1.29820297e-02, ...,\n",
       "         -6.60884787e-02,  -1.24215305e-04,   3.96309456e-02]])"
      ]
     },
     "execution_count": 9,
     "metadata": {},
     "output_type": "execute_result"
    }
   ],
   "source": [
    "num_softmax = numComputeSoftmax(X_tr[:10], y_tr[:10], W, 0)\n",
    "num_softmax"
   ]
  },
  {
   "cell_type": "code",
   "execution_count": 10,
   "metadata": {
    "collapsed": false
   },
   "outputs": [
    {
     "data": {
      "text/plain": [
       "array([[ -2.85524313e-02,  -2.93491353e-01,   9.50748654e-04, ...,\n",
       "          1.45805473e-01,   3.43866960e-04,  -9.94415454e-02],\n",
       "       [  1.57605607e-02,   9.00941018e-02,   1.29820311e-02, ...,\n",
       "         -6.60884772e-02,  -1.24215382e-04,   3.96309468e-02],\n",
       "       [  1.57605607e-02,   9.00941018e-02,   1.29820311e-02, ...,\n",
       "         -6.60884772e-02,  -1.24215382e-04,   3.96309468e-02],\n",
       "       ..., \n",
       "       [  1.57605607e-02,   9.00941018e-02,   1.29820311e-02, ...,\n",
       "         -6.60884772e-02,  -1.24215382e-04,   3.96309468e-02],\n",
       "       [  1.57605607e-02,   9.00941018e-02,   1.29820311e-02, ...,\n",
       "         -6.60884772e-02,  -1.24215382e-04,   3.96309468e-02],\n",
       "       [  1.57605607e-02,   9.00941018e-02,   1.29820311e-02, ...,\n",
       "         -6.60884772e-02,  -1.24215382e-04,   3.96309468e-02]])"
      ]
     },
     "execution_count": 10,
     "metadata": {},
     "output_type": "execute_result"
    }
   ],
   "source": [
    "grad_softmax"
   ]
  },
  {
   "cell_type": "code",
   "execution_count": 11,
   "metadata": {
    "collapsed": false
   },
   "outputs": [
    {
     "data": {
      "text/plain": [
       "8.9204458062729595e-08"
      ]
     },
     "execution_count": 11,
     "metadata": {},
     "output_type": "execute_result"
    }
   ],
   "source": [
    "diff = np.linalg.norm(num_softmax - grad_softmax) / \\\n",
    "                np.linalg.norm(num_softmax + grad_softmax)\n",
    "diff"
   ]
  },
  {
   "cell_type": "markdown",
   "metadata": {},
   "source": [
    "##HingeLoss$$L_i = \\sum_{j \\not = y_i}max(0, s_j - s_{y_i} +1)$$"
   ]
  },
  {
   "cell_type": "markdown",
   "metadata": {},
   "source": [
    "$$ k = m: \\quad L_i = \\sum_{j \\not = k}max(0, s_j - s_{k} +1) \\quad \\frac{\\partial L_i}{\\partial s_m} = \\sum_{j \\not = k}- 1 \\quad if:(s_j - s_{k} +1) > 0$$"
   ]
  },
  {
   "cell_type": "markdown",
   "metadata": {},
   "source": [
    "$$ k \\not = m: \\quad L_i = \\sum_{j \\not = k}max(0, s_j - s_{k} +1) \\quad \\frac{\\partial L_i}{\\partial s_m} = \\sum_{j \\not = k}1\\quad if:(s_j - s_{k} +1) > 0$$"
   ]
  },
  {
   "cell_type": "markdown",
   "metadata": {},
   "source": [
    "$$s_{m} = (X_{i} \\times W)_{m} \\qquad \\frac{\\partial s_{m}}{\\partial W} = X_i$$"
   ]
  },
  {
   "cell_type": "markdown",
   "metadata": {},
   "source": [
    "$$k = m: \\quad \\frac{\\partial L_{i}}{\\partial W} = \\sum_{j \\not = k}- X_i \\quad if:(s_j - s_{k} +1) > 0 \\quad \\quad k \\not = m: \\quad \\frac{\\partial L_{i}}{\\partial W} =\\sum_{j \\not = k} X_i\\quad if:(s_j - s_{k} +1) > 0$$"
   ]
  },
  {
   "cell_type": "code",
   "execution_count": 12,
   "metadata": {
    "collapsed": false
   },
   "outputs": [],
   "source": [
    "def computeHingeLoss(X_tr, y_tr, W, reg):\n",
    "    n, w = X_tr.shape\n",
    "    X_tr = np.c_[np.ones((n, 1)), X_tr]\n",
    "    s_mat = X_tr.dot(W)\n",
    "    s_k = s_mat[range(n), y_tr]\n",
    "    pred_score = s_mat - s_k.reshape(-1, 1) + 1\n",
    "    pred_score[range(n), y_tr] = 0\n",
    "    L = np.sum(pred_score[np.where(pred_score > 0)]) / n\n",
    "    L += 0.5 * reg * np.sum(W ** 2)\n",
    "    dW = np.zeros(W.shape)\n",
    "    pred_score[pred_score < 0] = 0\n",
    "    '''\n",
    "    for i in range(n):\n",
    "        for m in range(W.shape[1]):\n",
    "            if pred_score[i, m] > 0:\n",
    "                dW[:, m] += X_tr[i]\n",
    "                dW[:, y_tr[i]] -= X_tr[i]\n",
    "    '''\n",
    "    \n",
    "    pred_score[pred_score > 0] = 1\n",
    "    sum_score = np.sum(pred_score, axis=1)\n",
    "    pred_score[range(n), y_tr] = - sum_score\n",
    "    dW = X_tr.T.dot(pred_score)\n",
    "    \n",
    "    dW /= n\n",
    "    dW += reg * W \n",
    "    return L, dW"
   ]
  },
  {
   "cell_type": "code",
   "execution_count": 13,
   "metadata": {
    "collapsed": false
   },
   "outputs": [],
   "source": [
    "loss_hinge, grad_hinge = computeHingeLoss(X_tr[:10], y_tr[:10], W, 0)"
   ]
  },
  {
   "cell_type": "code",
   "execution_count": 14,
   "metadata": {
    "collapsed": true
   },
   "outputs": [],
   "source": [
    "def numHingeCompute(X_tr, y_tr, W, reg, h=0.000001):\n",
    "    w, k = W.shape\n",
    "    dW = np.zeros((w, k))\n",
    "    for i in range(w):\n",
    "        for j in range(k):\n",
    "            loss = computeHingeLoss(X_tr[:10], y_tr[:10], W, 0)[0]\n",
    "            W[i, j] += h\n",
    "            loss_c = computeHingeLoss(X_tr[:10], y_tr[:10], W, 0)[0]\n",
    "            dW[i, j] = (loss_c - loss) /  h\n",
    "    return dW"
   ]
  },
  {
   "cell_type": "code",
   "execution_count": 15,
   "metadata": {
    "collapsed": false
   },
   "outputs": [
    {
     "data": {
      "text/plain": [
       "array([[-0.1       , -1.10000001, -0.09999999, ...,  0.8       ,\n",
       "         0.3       , -0.50000001],\n",
       "       [ 0.05048132,  0.31159955,  0.0716095 , ..., -0.32712889,\n",
       "        -0.11203351,  0.21915552],\n",
       "       [ 0.05048132,  0.31159955,  0.07160951, ..., -0.32712889,\n",
       "        -0.1120335 ,  0.21915551],\n",
       "       ..., \n",
       "       [ 0.05048132,  0.31159955,  0.07160951, ..., -0.32712888,\n",
       "        -0.11203351,  0.21915552],\n",
       "       [ 0.05048132,  0.31159955,  0.0716095 , ..., -0.32712888,\n",
       "        -0.11203351,  0.21915551],\n",
       "       [ 0.05048132,  0.31159955,  0.0716095 , ..., -0.32712888,\n",
       "        -0.11203351,  0.21915551]])"
      ]
     },
     "execution_count": 15,
     "metadata": {},
     "output_type": "execute_result"
    }
   ],
   "source": [
    "num_hinge = numHingeCompute(X_tr[:10], y_tr[:10], W, 0)\n",
    "num_hinge"
   ]
  },
  {
   "cell_type": "code",
   "execution_count": 16,
   "metadata": {
    "collapsed": false
   },
   "outputs": [
    {
     "data": {
      "text/plain": [
       "array([[-0.1       , -1.1       , -0.1       , ...,  0.8       ,\n",
       "         0.3       , -0.5       ],\n",
       "       [ 0.05048132,  0.31159955,  0.07160951, ..., -0.32712889,\n",
       "        -0.1120335 ,  0.21915551],\n",
       "       [ 0.05048132,  0.31159955,  0.07160951, ..., -0.32712889,\n",
       "        -0.1120335 ,  0.21915551],\n",
       "       ..., \n",
       "       [ 0.05048132,  0.31159955,  0.07160951, ..., -0.32712889,\n",
       "        -0.1120335 ,  0.21915551],\n",
       "       [ 0.05048132,  0.31159955,  0.07160951, ..., -0.32712889,\n",
       "        -0.1120335 ,  0.21915551],\n",
       "       [ 0.05048132,  0.31159955,  0.07160951, ..., -0.32712889,\n",
       "        -0.1120335 ,  0.21915551]])"
      ]
     },
     "execution_count": 16,
     "metadata": {},
     "output_type": "execute_result"
    }
   ],
   "source": [
    "grad_hinge"
   ]
  },
  {
   "cell_type": "code",
   "execution_count": 17,
   "metadata": {
    "collapsed": false
   },
   "outputs": [
    {
     "data": {
      "text/plain": [
       "4.012536292715479e-09"
      ]
     },
     "execution_count": 17,
     "metadata": {},
     "output_type": "execute_result"
    }
   ],
   "source": [
    "diff = np.linalg.norm(num_hinge - grad_hinge) /  \\\n",
    "                np.linalg.norm(num_hinge + grad_hinge)\n",
    "diff"
   ]
  }
 ],
 "metadata": {
  "anaconda-cloud": {},
  "kernelspec": {
   "display_name": "Python [conda root]",
   "language": "python",
   "name": "conda-root-py"
  },
  "language_info": {
   "codemirror_mode": {
    "name": "ipython",
    "version": 3
   },
   "file_extension": ".py",
   "mimetype": "text/x-python",
   "name": "python",
   "nbconvert_exporter": "python",
   "pygments_lexer": "ipython3",
   "version": "3.5.2"
  }
 },
 "nbformat": 4,
 "nbformat_minor": 1
}
